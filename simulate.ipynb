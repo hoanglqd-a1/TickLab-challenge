{
 "cells": [
  {
   "cell_type": "code",
   "execution_count": 3,
   "metadata": {},
   "outputs": [],
   "source": [
    "import MLP\n",
    "import tensorflow as tf\n",
    "from tensorflow import keras\n",
    "from tensorflow.keras import layers\n",
    "from tensorflow.keras.datasets import mnist\n",
    "import numpy"
   ]
  },
  {
   "cell_type": "code",
   "execution_count": 4,
   "metadata": {},
   "outputs": [
    {
     "name": "stdout",
     "output_type": "stream",
     "text": [
      "(60000, 28, 28)\n",
      "(60000,)\n",
      "5\n"
     ]
    }
   ],
   "source": [
    "(x_train, y_train), (x_test, y_test) = mnist.load_data()\n",
    "print(x_train.shape)\n",
    "print(y_train.shape)\n",
    "print(y_train[0])"
   ]
  },
  {
   "cell_type": "code",
   "execution_count": 5,
   "metadata": {},
   "outputs": [
    {
     "name": "stdout",
     "output_type": "stream",
     "text": [
      "(60000, 784)\n",
      "(10000, 784)\n"
     ]
    }
   ],
   "source": [
    "x_train = x_train.reshape(-1, 28*28).astype(\"float32\") / 255.0\n",
    "x_test  = x_test.reshape(-1, 28*28).astype('float32') / 255.0\n",
    "print(x_train.shape)\n",
    "print(x_test.shape)"
   ]
  },
  {
   "cell_type": "code",
   "execution_count": 6,
   "metadata": {},
   "outputs": [],
   "source": [
    "x_train = tf.convert_to_tensor(x_train)"
   ]
  },
  {
   "cell_type": "code",
   "execution_count": 7,
   "metadata": {},
   "outputs": [
    {
     "data": {
      "text/html": [
       "<pre style=\"white-space:pre;overflow-x:auto;line-height:normal;font-family:Menlo,'DejaVu Sans Mono',consolas,'Courier New',monospace\"><span style=\"font-weight: bold\">Model: \"functional\"</span>\n",
       "</pre>\n"
      ],
      "text/plain": [
       "\u001b[1mModel: \"functional\"\u001b[0m\n"
      ]
     },
     "metadata": {},
     "output_type": "display_data"
    },
    {
     "data": {
      "text/html": [
       "<pre style=\"white-space:pre;overflow-x:auto;line-height:normal;font-family:Menlo,'DejaVu Sans Mono',consolas,'Courier New',monospace\">┏━━━━━━━━━━━━━━━━━━━━━━━━━━━━━━━━━┳━━━━━━━━━━━━━━━━━━━━━━━━┳━━━━━━━━━━━━━━━┓\n",
       "┃<span style=\"font-weight: bold\"> Layer (type)                    </span>┃<span style=\"font-weight: bold\"> Output Shape           </span>┃<span style=\"font-weight: bold\">       Param # </span>┃\n",
       "┡━━━━━━━━━━━━━━━━━━━━━━━━━━━━━━━━━╇━━━━━━━━━━━━━━━━━━━━━━━━╇━━━━━━━━━━━━━━━┩\n",
       "│ input_layer (<span style=\"color: #0087ff; text-decoration-color: #0087ff\">InputLayer</span>)        │ (<span style=\"color: #00d7ff; text-decoration-color: #00d7ff\">None</span>, <span style=\"color: #00af00; text-decoration-color: #00af00\">784</span>)            │             <span style=\"color: #00af00; text-decoration-color: #00af00\">0</span> │\n",
       "├─────────────────────────────────┼────────────────────────┼───────────────┤\n",
       "│ dense (<span style=\"color: #0087ff; text-decoration-color: #0087ff\">Dense</span>)                   │ (<span style=\"color: #00d7ff; text-decoration-color: #00d7ff\">None</span>, <span style=\"color: #00af00; text-decoration-color: #00af00\">512</span>)            │       <span style=\"color: #00af00; text-decoration-color: #00af00\">401,920</span> │\n",
       "├─────────────────────────────────┼────────────────────────┼───────────────┤\n",
       "│ dense_1 (<span style=\"color: #0087ff; text-decoration-color: #0087ff\">Dense</span>)                 │ (<span style=\"color: #00d7ff; text-decoration-color: #00d7ff\">None</span>, <span style=\"color: #00af00; text-decoration-color: #00af00\">256</span>)            │       <span style=\"color: #00af00; text-decoration-color: #00af00\">131,328</span> │\n",
       "├─────────────────────────────────┼────────────────────────┼───────────────┤\n",
       "│ dense_2 (<span style=\"color: #0087ff; text-decoration-color: #0087ff\">Dense</span>)                 │ (<span style=\"color: #00d7ff; text-decoration-color: #00d7ff\">None</span>, <span style=\"color: #00af00; text-decoration-color: #00af00\">10</span>)             │         <span style=\"color: #00af00; text-decoration-color: #00af00\">2,570</span> │\n",
       "└─────────────────────────────────┴────────────────────────┴───────────────┘\n",
       "</pre>\n"
      ],
      "text/plain": [
       "┏━━━━━━━━━━━━━━━━━━━━━━━━━━━━━━━━━┳━━━━━━━━━━━━━━━━━━━━━━━━┳━━━━━━━━━━━━━━━┓\n",
       "┃\u001b[1m \u001b[0m\u001b[1mLayer (type)                   \u001b[0m\u001b[1m \u001b[0m┃\u001b[1m \u001b[0m\u001b[1mOutput Shape          \u001b[0m\u001b[1m \u001b[0m┃\u001b[1m \u001b[0m\u001b[1m      Param #\u001b[0m\u001b[1m \u001b[0m┃\n",
       "┡━━━━━━━━━━━━━━━━━━━━━━━━━━━━━━━━━╇━━━━━━━━━━━━━━━━━━━━━━━━╇━━━━━━━━━━━━━━━┩\n",
       "│ input_layer (\u001b[38;5;33mInputLayer\u001b[0m)        │ (\u001b[38;5;45mNone\u001b[0m, \u001b[38;5;34m784\u001b[0m)            │             \u001b[38;5;34m0\u001b[0m │\n",
       "├─────────────────────────────────┼────────────────────────┼───────────────┤\n",
       "│ dense (\u001b[38;5;33mDense\u001b[0m)                   │ (\u001b[38;5;45mNone\u001b[0m, \u001b[38;5;34m512\u001b[0m)            │       \u001b[38;5;34m401,920\u001b[0m │\n",
       "├─────────────────────────────────┼────────────────────────┼───────────────┤\n",
       "│ dense_1 (\u001b[38;5;33mDense\u001b[0m)                 │ (\u001b[38;5;45mNone\u001b[0m, \u001b[38;5;34m256\u001b[0m)            │       \u001b[38;5;34m131,328\u001b[0m │\n",
       "├─────────────────────────────────┼────────────────────────┼───────────────┤\n",
       "│ dense_2 (\u001b[38;5;33mDense\u001b[0m)                 │ (\u001b[38;5;45mNone\u001b[0m, \u001b[38;5;34m10\u001b[0m)             │         \u001b[38;5;34m2,570\u001b[0m │\n",
       "└─────────────────────────────────┴────────────────────────┴───────────────┘\n"
      ]
     },
     "metadata": {},
     "output_type": "display_data"
    },
    {
     "data": {
      "text/html": [
       "<pre style=\"white-space:pre;overflow-x:auto;line-height:normal;font-family:Menlo,'DejaVu Sans Mono',consolas,'Courier New',monospace\"><span style=\"font-weight: bold\"> Total params: </span><span style=\"color: #00af00; text-decoration-color: #00af00\">535,818</span> (2.04 MB)\n",
       "</pre>\n"
      ],
      "text/plain": [
       "\u001b[1m Total params: \u001b[0m\u001b[38;5;34m535,818\u001b[0m (2.04 MB)\n"
      ]
     },
     "metadata": {},
     "output_type": "display_data"
    },
    {
     "data": {
      "text/html": [
       "<pre style=\"white-space:pre;overflow-x:auto;line-height:normal;font-family:Menlo,'DejaVu Sans Mono',consolas,'Courier New',monospace\"><span style=\"font-weight: bold\"> Trainable params: </span><span style=\"color: #00af00; text-decoration-color: #00af00\">535,818</span> (2.04 MB)\n",
       "</pre>\n"
      ],
      "text/plain": [
       "\u001b[1m Trainable params: \u001b[0m\u001b[38;5;34m535,818\u001b[0m (2.04 MB)\n"
      ]
     },
     "metadata": {},
     "output_type": "display_data"
    },
    {
     "data": {
      "text/html": [
       "<pre style=\"white-space:pre;overflow-x:auto;line-height:normal;font-family:Menlo,'DejaVu Sans Mono',consolas,'Courier New',monospace\"><span style=\"font-weight: bold\"> Non-trainable params: </span><span style=\"color: #00af00; text-decoration-color: #00af00\">0</span> (0.00 B)\n",
       "</pre>\n"
      ],
      "text/plain": [
       "\u001b[1m Non-trainable params: \u001b[0m\u001b[38;5;34m0\u001b[0m (0.00 B)\n"
      ]
     },
     "metadata": {},
     "output_type": "display_data"
    },
    {
     "name": "stdout",
     "output_type": "stream",
     "text": [
      "None\n"
     ]
    }
   ],
   "source": [
    "inputs = keras.Input(shape=(28*28,))\n",
    "x = layers.Dense(512, activation='relu')(inputs)\n",
    "x = layers.Dense(256, activation='relu')(x)\n",
    "outputs = layers.Dense(10, activation='softmax')(x)\n",
    "model = keras.Model(inputs=inputs, outputs=outputs)\n",
    "\n",
    "print(model.summary())"
   ]
  },
  {
   "cell_type": "code",
   "execution_count": 8,
   "metadata": {},
   "outputs": [
    {
     "name": "stdout",
     "output_type": "stream",
     "text": [
      "(60000, 784)\n"
     ]
    }
   ],
   "source": [
    "model.compile(\n",
    "    loss = keras.losses.SparseCategoricalCrossentropy(from_logits=False), #loss function\n",
    "    optimizer=keras.optimizers.Adam(learning_rate=0.001), #learning rate\n",
    "    metrics=['accuracy']\n",
    ")\n",
    "print(x_train.shape)"
   ]
  },
  {
   "cell_type": "code",
   "execution_count": 9,
   "metadata": {},
   "outputs": [
    {
     "name": "stdout",
     "output_type": "stream",
     "text": [
      "Epoch 1/7\n",
      "1200/1200 - 4s - 3ms/step - accuracy: 0.9422 - loss: 0.1927\n",
      "Epoch 2/7\n",
      "1200/1200 - 3s - 3ms/step - accuracy: 0.9750 - loss: 0.0796\n",
      "Epoch 3/7\n",
      "1200/1200 - 4s - 3ms/step - accuracy: 0.9831 - loss: 0.0537\n",
      "Epoch 4/7\n",
      "1200/1200 - 3s - 3ms/step - accuracy: 0.9878 - loss: 0.0387\n",
      "Epoch 5/7\n",
      "1200/1200 - 3s - 3ms/step - accuracy: 0.9906 - loss: 0.0291\n",
      "Epoch 6/7\n",
      "1200/1200 - 4s - 3ms/step - accuracy: 0.9912 - loss: 0.0265\n",
      "Epoch 7/7\n",
      "1200/1200 - 3s - 3ms/step - accuracy: 0.9936 - loss: 0.0210\n",
      "200/200 - 0s - 2ms/step - accuracy: 0.9817 - loss: 0.0718\n"
     ]
    },
    {
     "data": {
      "text/plain": [
       "[0.07183890789747238, 0.9817000031471252]"
      ]
     },
     "execution_count": 9,
     "metadata": {},
     "output_type": "execute_result"
    }
   ],
   "source": [
    "model.fit(x_train, y_train, batch_size=50, epochs=7, verbose=2)\n",
    "model.evaluate(x_test, y_test, batch_size=50, verbose=2)"
   ]
  },
  {
   "cell_type": "code",
   "execution_count": 12,
   "metadata": {},
   "outputs": [],
   "source": [
    "from MLP import *"
   ]
  },
  {
   "cell_type": "code",
   "execution_count": 13,
   "metadata": {},
   "outputs": [],
   "source": [
    "Y_train = processing(y_train, 10)\n",
    "Y_test = processing(y_test, 10)"
   ]
  },
  {
   "cell_type": "code",
   "execution_count": 14,
   "metadata": {},
   "outputs": [],
   "source": [
    "inputs = Input(shape=(28*28))\n",
    "x = Layer(256, activation='ReLU', previous_layer=inputs)\n",
    "outputs = Layer(10, activation='softmax', previous_layer=x)\n",
    "model = Model(input=inputs, output=outputs)"
   ]
  },
  {
   "cell_type": "code",
   "execution_count": 15,
   "metadata": {},
   "outputs": [
    {
     "name": "stdout",
     "output_type": "stream",
     "text": [
      "(60000, 784) (60000, 10)\n"
     ]
    }
   ],
   "source": [
    "model.compile(loss=Loss.CrossEntropy(), learning_rate=0.01)\n",
    "print(x_train.shape, Y_train.shape)"
   ]
  },
  {
   "cell_type": "code",
   "execution_count": 16,
   "metadata": {},
   "outputs": [],
   "source": [
    "x_train_split = np.split(x_train, 60)[0]\n",
    "Y_train_split = np.split(Y_train, 60)[0]"
   ]
  },
  {
   "cell_type": "code",
   "execution_count": 17,
   "metadata": {},
   "outputs": [
    {
     "name": "stdout",
     "output_type": "stream",
     "text": [
      "epoch:0, cost:12431.900506132848, accuracy:0.096\n",
      "epoch:50, cost:12516.852565515632, accuracy:0.094\n",
      "epoch:100, cost:12516.852565515632, accuracy:0.094\n",
      "epoch:150, cost:9786.17684856097, accuracy:0.283\n",
      "epoch:200, cost:11172.313327453223, accuracy:0.19\n",
      "epoch:250, cost:10939.087541125951, accuracy:0.206\n",
      "epoch:300, cost:9532.738115727027, accuracy:0.31\n",
      "epoch:350, cost:6527.237110755499, accuracy:0.521\n",
      "epoch:400, cost:5850.238105556523, accuracy:0.568\n",
      "epoch:450, cost:4823.569946820533, accuracy:0.639\n",
      "epoch:500, cost:5457.0173890964215, accuracy:0.598\n",
      "epoch:550, cost:3196.1110108658354, accuracy:0.762\n",
      "epoch:600, cost:3673.3271717573584, accuracy:0.729\n",
      "epoch:650, cost:2469.819235380601, accuracy:0.811\n",
      "epoch:700, cost:4341.293371798416, accuracy:0.677\n",
      "epoch:750, cost:2863.9600717080048, accuracy:0.785\n",
      "epoch:800, cost:3110.5718527882827, accuracy:0.769\n",
      "epoch:850, cost:2435.4839371133526, accuracy:0.809\n",
      "epoch:900, cost:3314.071107309696, accuracy:0.756\n",
      "epoch:950, cost:2000.2435522954875, accuracy:0.849\n",
      "epoch:1000, cost:3006.047114372553, accuracy:0.775\n",
      "epoch:1050, cost:1983.9401976092752, accuracy:0.847\n",
      "epoch:1100, cost:2510.476430154499, accuracy:0.809\n",
      "epoch:1150, cost:2057.226419772104, accuracy:0.843\n",
      "epoch:1200, cost:1821.0841657882609, accuracy:0.858\n",
      "epoch:1250, cost:2064.5559149097617, accuracy:0.84\n",
      "epoch:1300, cost:2759.415692958516, accuracy:0.791\n",
      "epoch:1350, cost:1645.2062676887253, accuracy:0.869\n",
      "epoch:1400, cost:2198.471280324941, accuracy:0.83\n",
      "epoch:1450, cost:1807.2817397917656, accuracy:0.86\n",
      "epoch:1500, cost:2291.3452815656688, accuracy:0.829\n",
      "epoch:1550, cost:1933.0429060392614, accuracy:0.85\n",
      "epoch:1600, cost:2225.0757913110983, accuracy:0.827\n",
      "epoch:1650, cost:1807.8058937229202, accuracy:0.862\n",
      "epoch:1700, cost:2235.4355199616484, accuracy:0.827\n",
      "epoch:1750, cost:1142.7267272725448, accuracy:0.912\n",
      "epoch:1800, cost:1733.9641731849797, accuracy:0.865\n",
      "epoch:1850, cost:1130.7091352673651, accuracy:0.916\n",
      "epoch:1900, cost:1845.9194783899047, accuracy:0.855\n",
      "epoch:1950, cost:1637.8592777845122, accuracy:0.875\n",
      "Cost: 36316.16415306827 Accuracy: 0.7272\n"
     ]
    }
   ],
   "source": [
    "model.fit(x_train_split, Y_train_split, batch_size=50, epochs=2000)\n",
    "model.evaluate(x_test, Y_test)"
   ]
  },
  {
   "cell_type": "code",
   "execution_count": null,
   "metadata": {},
   "outputs": [],
   "source": []
  }
 ],
 "metadata": {
  "kernelspec": {
   "display_name": "Python 3",
   "language": "python",
   "name": "python3"
  },
  "language_info": {
   "codemirror_mode": {
    "name": "ipython",
    "version": 3
   },
   "file_extension": ".py",
   "mimetype": "text/x-python",
   "name": "python",
   "nbconvert_exporter": "python",
   "pygments_lexer": "ipython3",
   "version": "3.11.5"
  }
 },
 "nbformat": 4,
 "nbformat_minor": 2
}
