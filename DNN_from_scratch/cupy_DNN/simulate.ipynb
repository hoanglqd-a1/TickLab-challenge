{
 "cells": [
  {
   "cell_type": "code",
   "execution_count": 1,
   "metadata": {},
   "outputs": [],
   "source": [
    "import tensorflow as tf\n",
    "from tensorflow.keras.datasets import cifar10\n",
    "import os \n",
    "os.environ['TF_ENABLE_ONEDNN_OPTS'] = '0'\n",
    "\n",
    "from DNN import *"
   ]
  },
  {
   "cell_type": "code",
   "execution_count": 2,
   "metadata": {},
   "outputs": [],
   "source": [
    "from tensorflow.keras.datasets import cifar10\n",
    "\n",
    "(x_train, y_train), (x_test, y_test) = cifar10.load_data()\n",
    "x_train = x_train.astype(\"float64\") / 255.0\n",
    "x_test  = x_test.astype('float64') / 255.0\n",
    "x_train = tf.convert_to_tensor(x_train)\n",
    "x_test = tf.convert_to_tensor(x_test)\n",
    "x_train = (x_train.numpy())\n",
    "x_test = (x_test.numpy())\n"
   ]
  },
  {
   "cell_type": "code",
   "execution_count": 5,
   "metadata": {},
   "outputs": [],
   "source": [
    "from tensorflow import keras\n",
    "from tensorflow.keras import layers"
   ]
  },
  {
   "cell_type": "code",
   "execution_count": 30,
   "metadata": {},
   "outputs": [],
   "source": [
    "model = keras.Sequential(\n",
    "    [\n",
    "        keras.Input(shape=(32, 32, 3)),\n",
    "        layers.Conv2D(32,  kernel_size=(3,3), activation=\"relu\"),\n",
    "        layers.Conv2D(64,  kernel_size=(3,3), activation=\"relu\"),\n",
    "        layers.BatchNormalization(),\n",
    "        layers.MaxPooling2D(pool_size=(2,2)),\n",
    "        layers.Dropout(rate=0.25),\n",
    "        layers.Conv2D(128, kernel_size=(3,3), activation=\"relu\"),\n",
    "        layers.Conv2D(256, kernel_size=(3,3), activation=\"relu\"),\n",
    "        layers.BatchNormalization(),\n",
    "        layers.MaxPooling2D(pool_size=(2,2)),\n",
    "        layers.Dropout(rate=0.25),        \n",
    "        layers.Flatten(),\n",
    "        layers.Dense(512, activation=\"relu\"),\n",
    "        layers.Dense(128, activation=\"relu\"),\n",
    "        layers.Dense(10)\n",
    "    ]\n",
    ")"
   ]
  },
  {
   "cell_type": "code",
   "execution_count": 31,
   "metadata": {},
   "outputs": [
    {
     "data": {
      "text/html": [
       "<pre style=\"white-space:pre;overflow-x:auto;line-height:normal;font-family:Menlo,'DejaVu Sans Mono',consolas,'Courier New',monospace\"><span style=\"font-weight: bold\">Model: \"sequential_7\"</span>\n",
       "</pre>\n"
      ],
      "text/plain": [
       "\u001b[1mModel: \"sequential_7\"\u001b[0m\n"
      ]
     },
     "metadata": {},
     "output_type": "display_data"
    },
    {
     "data": {
      "text/html": [
       "<pre style=\"white-space:pre;overflow-x:auto;line-height:normal;font-family:Menlo,'DejaVu Sans Mono',consolas,'Courier New',monospace\">┏━━━━━━━━━━━━━━━━━━━━━━━━━━━━━━━━━┳━━━━━━━━━━━━━━━━━━━━━━━━┳━━━━━━━━━━━━━━━┓\n",
       "┃<span style=\"font-weight: bold\"> Layer (type)                    </span>┃<span style=\"font-weight: bold\"> Output Shape           </span>┃<span style=\"font-weight: bold\">       Param # </span>┃\n",
       "┡━━━━━━━━━━━━━━━━━━━━━━━━━━━━━━━━━╇━━━━━━━━━━━━━━━━━━━━━━━━╇━━━━━━━━━━━━━━━┩\n",
       "│ conv2d_30 (<span style=\"color: #0087ff; text-decoration-color: #0087ff\">Conv2D</span>)              │ (<span style=\"color: #00d7ff; text-decoration-color: #00d7ff\">None</span>, <span style=\"color: #00af00; text-decoration-color: #00af00\">30</span>, <span style=\"color: #00af00; text-decoration-color: #00af00\">30</span>, <span style=\"color: #00af00; text-decoration-color: #00af00\">32</span>)     │           <span style=\"color: #00af00; text-decoration-color: #00af00\">896</span> │\n",
       "├─────────────────────────────────┼────────────────────────┼───────────────┤\n",
       "│ conv2d_31 (<span style=\"color: #0087ff; text-decoration-color: #0087ff\">Conv2D</span>)              │ (<span style=\"color: #00d7ff; text-decoration-color: #00d7ff\">None</span>, <span style=\"color: #00af00; text-decoration-color: #00af00\">28</span>, <span style=\"color: #00af00; text-decoration-color: #00af00\">28</span>, <span style=\"color: #00af00; text-decoration-color: #00af00\">64</span>)     │        <span style=\"color: #00af00; text-decoration-color: #00af00\">18,496</span> │\n",
       "├─────────────────────────────────┼────────────────────────┼───────────────┤\n",
       "│ batch_normalization             │ (<span style=\"color: #00d7ff; text-decoration-color: #00d7ff\">None</span>, <span style=\"color: #00af00; text-decoration-color: #00af00\">28</span>, <span style=\"color: #00af00; text-decoration-color: #00af00\">28</span>, <span style=\"color: #00af00; text-decoration-color: #00af00\">64</span>)     │           <span style=\"color: #00af00; text-decoration-color: #00af00\">256</span> │\n",
       "│ (<span style=\"color: #0087ff; text-decoration-color: #0087ff\">BatchNormalization</span>)            │                        │               │\n",
       "├─────────────────────────────────┼────────────────────────┼───────────────┤\n",
       "│ max_pooling2d_18 (<span style=\"color: #0087ff; text-decoration-color: #0087ff\">MaxPooling2D</span>) │ (<span style=\"color: #00d7ff; text-decoration-color: #00d7ff\">None</span>, <span style=\"color: #00af00; text-decoration-color: #00af00\">14</span>, <span style=\"color: #00af00; text-decoration-color: #00af00\">14</span>, <span style=\"color: #00af00; text-decoration-color: #00af00\">64</span>)     │             <span style=\"color: #00af00; text-decoration-color: #00af00\">0</span> │\n",
       "├─────────────────────────────────┼────────────────────────┼───────────────┤\n",
       "│ dropout_2 (<span style=\"color: #0087ff; text-decoration-color: #0087ff\">Dropout</span>)             │ (<span style=\"color: #00d7ff; text-decoration-color: #00d7ff\">None</span>, <span style=\"color: #00af00; text-decoration-color: #00af00\">14</span>, <span style=\"color: #00af00; text-decoration-color: #00af00\">14</span>, <span style=\"color: #00af00; text-decoration-color: #00af00\">64</span>)     │             <span style=\"color: #00af00; text-decoration-color: #00af00\">0</span> │\n",
       "├─────────────────────────────────┼────────────────────────┼───────────────┤\n",
       "│ conv2d_32 (<span style=\"color: #0087ff; text-decoration-color: #0087ff\">Conv2D</span>)              │ (<span style=\"color: #00d7ff; text-decoration-color: #00d7ff\">None</span>, <span style=\"color: #00af00; text-decoration-color: #00af00\">12</span>, <span style=\"color: #00af00; text-decoration-color: #00af00\">12</span>, <span style=\"color: #00af00; text-decoration-color: #00af00\">128</span>)    │        <span style=\"color: #00af00; text-decoration-color: #00af00\">73,856</span> │\n",
       "├─────────────────────────────────┼────────────────────────┼───────────────┤\n",
       "│ conv2d_33 (<span style=\"color: #0087ff; text-decoration-color: #0087ff\">Conv2D</span>)              │ (<span style=\"color: #00d7ff; text-decoration-color: #00d7ff\">None</span>, <span style=\"color: #00af00; text-decoration-color: #00af00\">10</span>, <span style=\"color: #00af00; text-decoration-color: #00af00\">10</span>, <span style=\"color: #00af00; text-decoration-color: #00af00\">256</span>)    │       <span style=\"color: #00af00; text-decoration-color: #00af00\">295,168</span> │\n",
       "├─────────────────────────────────┼────────────────────────┼───────────────┤\n",
       "│ batch_normalization_1           │ (<span style=\"color: #00d7ff; text-decoration-color: #00d7ff\">None</span>, <span style=\"color: #00af00; text-decoration-color: #00af00\">10</span>, <span style=\"color: #00af00; text-decoration-color: #00af00\">10</span>, <span style=\"color: #00af00; text-decoration-color: #00af00\">256</span>)    │         <span style=\"color: #00af00; text-decoration-color: #00af00\">1,024</span> │\n",
       "│ (<span style=\"color: #0087ff; text-decoration-color: #0087ff\">BatchNormalization</span>)            │                        │               │\n",
       "├─────────────────────────────────┼────────────────────────┼───────────────┤\n",
       "│ max_pooling2d_19 (<span style=\"color: #0087ff; text-decoration-color: #0087ff\">MaxPooling2D</span>) │ (<span style=\"color: #00d7ff; text-decoration-color: #00d7ff\">None</span>, <span style=\"color: #00af00; text-decoration-color: #00af00\">5</span>, <span style=\"color: #00af00; text-decoration-color: #00af00\">5</span>, <span style=\"color: #00af00; text-decoration-color: #00af00\">256</span>)      │             <span style=\"color: #00af00; text-decoration-color: #00af00\">0</span> │\n",
       "├─────────────────────────────────┼────────────────────────┼───────────────┤\n",
       "│ dropout_3 (<span style=\"color: #0087ff; text-decoration-color: #0087ff\">Dropout</span>)             │ (<span style=\"color: #00d7ff; text-decoration-color: #00d7ff\">None</span>, <span style=\"color: #00af00; text-decoration-color: #00af00\">5</span>, <span style=\"color: #00af00; text-decoration-color: #00af00\">5</span>, <span style=\"color: #00af00; text-decoration-color: #00af00\">256</span>)      │             <span style=\"color: #00af00; text-decoration-color: #00af00\">0</span> │\n",
       "├─────────────────────────────────┼────────────────────────┼───────────────┤\n",
       "│ flatten_7 (<span style=\"color: #0087ff; text-decoration-color: #0087ff\">Flatten</span>)             │ (<span style=\"color: #00d7ff; text-decoration-color: #00d7ff\">None</span>, <span style=\"color: #00af00; text-decoration-color: #00af00\">6400</span>)           │             <span style=\"color: #00af00; text-decoration-color: #00af00\">0</span> │\n",
       "├─────────────────────────────────┼────────────────────────┼───────────────┤\n",
       "│ dense_19 (<span style=\"color: #0087ff; text-decoration-color: #0087ff\">Dense</span>)                │ (<span style=\"color: #00d7ff; text-decoration-color: #00d7ff\">None</span>, <span style=\"color: #00af00; text-decoration-color: #00af00\">512</span>)            │     <span style=\"color: #00af00; text-decoration-color: #00af00\">3,277,312</span> │\n",
       "├─────────────────────────────────┼────────────────────────┼───────────────┤\n",
       "│ dense_20 (<span style=\"color: #0087ff; text-decoration-color: #0087ff\">Dense</span>)                │ (<span style=\"color: #00d7ff; text-decoration-color: #00d7ff\">None</span>, <span style=\"color: #00af00; text-decoration-color: #00af00\">128</span>)            │        <span style=\"color: #00af00; text-decoration-color: #00af00\">65,664</span> │\n",
       "├─────────────────────────────────┼────────────────────────┼───────────────┤\n",
       "│ dense_21 (<span style=\"color: #0087ff; text-decoration-color: #0087ff\">Dense</span>)                │ (<span style=\"color: #00d7ff; text-decoration-color: #00d7ff\">None</span>, <span style=\"color: #00af00; text-decoration-color: #00af00\">10</span>)             │         <span style=\"color: #00af00; text-decoration-color: #00af00\">1,290</span> │\n",
       "└─────────────────────────────────┴────────────────────────┴───────────────┘\n",
       "</pre>\n"
      ],
      "text/plain": [
       "┏━━━━━━━━━━━━━━━━━━━━━━━━━━━━━━━━━┳━━━━━━━━━━━━━━━━━━━━━━━━┳━━━━━━━━━━━━━━━┓\n",
       "┃\u001b[1m \u001b[0m\u001b[1mLayer (type)                   \u001b[0m\u001b[1m \u001b[0m┃\u001b[1m \u001b[0m\u001b[1mOutput Shape          \u001b[0m\u001b[1m \u001b[0m┃\u001b[1m \u001b[0m\u001b[1m      Param #\u001b[0m\u001b[1m \u001b[0m┃\n",
       "┡━━━━━━━━━━━━━━━━━━━━━━━━━━━━━━━━━╇━━━━━━━━━━━━━━━━━━━━━━━━╇━━━━━━━━━━━━━━━┩\n",
       "│ conv2d_30 (\u001b[38;5;33mConv2D\u001b[0m)              │ (\u001b[38;5;45mNone\u001b[0m, \u001b[38;5;34m30\u001b[0m, \u001b[38;5;34m30\u001b[0m, \u001b[38;5;34m32\u001b[0m)     │           \u001b[38;5;34m896\u001b[0m │\n",
       "├─────────────────────────────────┼────────────────────────┼───────────────┤\n",
       "│ conv2d_31 (\u001b[38;5;33mConv2D\u001b[0m)              │ (\u001b[38;5;45mNone\u001b[0m, \u001b[38;5;34m28\u001b[0m, \u001b[38;5;34m28\u001b[0m, \u001b[38;5;34m64\u001b[0m)     │        \u001b[38;5;34m18,496\u001b[0m │\n",
       "├─────────────────────────────────┼────────────────────────┼───────────────┤\n",
       "│ batch_normalization             │ (\u001b[38;5;45mNone\u001b[0m, \u001b[38;5;34m28\u001b[0m, \u001b[38;5;34m28\u001b[0m, \u001b[38;5;34m64\u001b[0m)     │           \u001b[38;5;34m256\u001b[0m │\n",
       "│ (\u001b[38;5;33mBatchNormalization\u001b[0m)            │                        │               │\n",
       "├─────────────────────────────────┼────────────────────────┼───────────────┤\n",
       "│ max_pooling2d_18 (\u001b[38;5;33mMaxPooling2D\u001b[0m) │ (\u001b[38;5;45mNone\u001b[0m, \u001b[38;5;34m14\u001b[0m, \u001b[38;5;34m14\u001b[0m, \u001b[38;5;34m64\u001b[0m)     │             \u001b[38;5;34m0\u001b[0m │\n",
       "├─────────────────────────────────┼────────────────────────┼───────────────┤\n",
       "│ dropout_2 (\u001b[38;5;33mDropout\u001b[0m)             │ (\u001b[38;5;45mNone\u001b[0m, \u001b[38;5;34m14\u001b[0m, \u001b[38;5;34m14\u001b[0m, \u001b[38;5;34m64\u001b[0m)     │             \u001b[38;5;34m0\u001b[0m │\n",
       "├─────────────────────────────────┼────────────────────────┼───────────────┤\n",
       "│ conv2d_32 (\u001b[38;5;33mConv2D\u001b[0m)              │ (\u001b[38;5;45mNone\u001b[0m, \u001b[38;5;34m12\u001b[0m, \u001b[38;5;34m12\u001b[0m, \u001b[38;5;34m128\u001b[0m)    │        \u001b[38;5;34m73,856\u001b[0m │\n",
       "├─────────────────────────────────┼────────────────────────┼───────────────┤\n",
       "│ conv2d_33 (\u001b[38;5;33mConv2D\u001b[0m)              │ (\u001b[38;5;45mNone\u001b[0m, \u001b[38;5;34m10\u001b[0m, \u001b[38;5;34m10\u001b[0m, \u001b[38;5;34m256\u001b[0m)    │       \u001b[38;5;34m295,168\u001b[0m │\n",
       "├─────────────────────────────────┼────────────────────────┼───────────────┤\n",
       "│ batch_normalization_1           │ (\u001b[38;5;45mNone\u001b[0m, \u001b[38;5;34m10\u001b[0m, \u001b[38;5;34m10\u001b[0m, \u001b[38;5;34m256\u001b[0m)    │         \u001b[38;5;34m1,024\u001b[0m │\n",
       "│ (\u001b[38;5;33mBatchNormalization\u001b[0m)            │                        │               │\n",
       "├─────────────────────────────────┼────────────────────────┼───────────────┤\n",
       "│ max_pooling2d_19 (\u001b[38;5;33mMaxPooling2D\u001b[0m) │ (\u001b[38;5;45mNone\u001b[0m, \u001b[38;5;34m5\u001b[0m, \u001b[38;5;34m5\u001b[0m, \u001b[38;5;34m256\u001b[0m)      │             \u001b[38;5;34m0\u001b[0m │\n",
       "├─────────────────────────────────┼────────────────────────┼───────────────┤\n",
       "│ dropout_3 (\u001b[38;5;33mDropout\u001b[0m)             │ (\u001b[38;5;45mNone\u001b[0m, \u001b[38;5;34m5\u001b[0m, \u001b[38;5;34m5\u001b[0m, \u001b[38;5;34m256\u001b[0m)      │             \u001b[38;5;34m0\u001b[0m │\n",
       "├─────────────────────────────────┼────────────────────────┼───────────────┤\n",
       "│ flatten_7 (\u001b[38;5;33mFlatten\u001b[0m)             │ (\u001b[38;5;45mNone\u001b[0m, \u001b[38;5;34m6400\u001b[0m)           │             \u001b[38;5;34m0\u001b[0m │\n",
       "├─────────────────────────────────┼────────────────────────┼───────────────┤\n",
       "│ dense_19 (\u001b[38;5;33mDense\u001b[0m)                │ (\u001b[38;5;45mNone\u001b[0m, \u001b[38;5;34m512\u001b[0m)            │     \u001b[38;5;34m3,277,312\u001b[0m │\n",
       "├─────────────────────────────────┼────────────────────────┼───────────────┤\n",
       "│ dense_20 (\u001b[38;5;33mDense\u001b[0m)                │ (\u001b[38;5;45mNone\u001b[0m, \u001b[38;5;34m128\u001b[0m)            │        \u001b[38;5;34m65,664\u001b[0m │\n",
       "├─────────────────────────────────┼────────────────────────┼───────────────┤\n",
       "│ dense_21 (\u001b[38;5;33mDense\u001b[0m)                │ (\u001b[38;5;45mNone\u001b[0m, \u001b[38;5;34m10\u001b[0m)             │         \u001b[38;5;34m1,290\u001b[0m │\n",
       "└─────────────────────────────────┴────────────────────────┴───────────────┘\n"
      ]
     },
     "metadata": {},
     "output_type": "display_data"
    },
    {
     "data": {
      "text/html": [
       "<pre style=\"white-space:pre;overflow-x:auto;line-height:normal;font-family:Menlo,'DejaVu Sans Mono',consolas,'Courier New',monospace\"><span style=\"font-weight: bold\"> Total params: </span><span style=\"color: #00af00; text-decoration-color: #00af00\">3,733,962</span> (14.24 MB)\n",
       "</pre>\n"
      ],
      "text/plain": [
       "\u001b[1m Total params: \u001b[0m\u001b[38;5;34m3,733,962\u001b[0m (14.24 MB)\n"
      ]
     },
     "metadata": {},
     "output_type": "display_data"
    },
    {
     "data": {
      "text/html": [
       "<pre style=\"white-space:pre;overflow-x:auto;line-height:normal;font-family:Menlo,'DejaVu Sans Mono',consolas,'Courier New',monospace\"><span style=\"font-weight: bold\"> Trainable params: </span><span style=\"color: #00af00; text-decoration-color: #00af00\">3,733,322</span> (14.24 MB)\n",
       "</pre>\n"
      ],
      "text/plain": [
       "\u001b[1m Trainable params: \u001b[0m\u001b[38;5;34m3,733,322\u001b[0m (14.24 MB)\n"
      ]
     },
     "metadata": {},
     "output_type": "display_data"
    },
    {
     "data": {
      "text/html": [
       "<pre style=\"white-space:pre;overflow-x:auto;line-height:normal;font-family:Menlo,'DejaVu Sans Mono',consolas,'Courier New',monospace\"><span style=\"font-weight: bold\"> Non-trainable params: </span><span style=\"color: #00af00; text-decoration-color: #00af00\">640</span> (2.50 KB)\n",
       "</pre>\n"
      ],
      "text/plain": [
       "\u001b[1m Non-trainable params: \u001b[0m\u001b[38;5;34m640\u001b[0m (2.50 KB)\n"
      ]
     },
     "metadata": {},
     "output_type": "display_data"
    }
   ],
   "source": [
    "model.summary()"
   ]
  },
  {
   "cell_type": "code",
   "execution_count": 32,
   "metadata": {},
   "outputs": [],
   "source": [
    "model.compile(\n",
    "    loss=keras.losses.SparseCategoricalCrossentropy(from_logits=True),\n",
    "    optimizer=keras.optimizers.Adam(learning_rate=0.0005),\n",
    "    metrics=['accuracy'],\n",
    ")"
   ]
  },
  {
   "cell_type": "code",
   "execution_count": 33,
   "metadata": {},
   "outputs": [
    {
     "name": "stdout",
     "output_type": "stream",
     "text": [
      "Epoch 1/10\n",
      "1563/1563 - 81s - 52ms/step - accuracy: 0.5278 - loss: 1.3409\n",
      "Epoch 2/10\n",
      "1563/1563 - 91s - 58ms/step - accuracy: 0.6926 - loss: 0.8732\n",
      "Epoch 3/10\n",
      "1563/1563 - 82s - 52ms/step - accuracy: 0.7585 - loss: 0.6899\n",
      "Epoch 4/10\n",
      "1563/1563 - 78s - 50ms/step - accuracy: 0.8066 - loss: 0.5568\n",
      "Epoch 5/10\n",
      "1563/1563 - 77s - 49ms/step - accuracy: 0.8480 - loss: 0.4346\n",
      "Epoch 6/10\n",
      "1563/1563 - 77s - 49ms/step - accuracy: 0.8785 - loss: 0.3428\n",
      "Epoch 7/10\n",
      "1563/1563 - 77s - 49ms/step - accuracy: 0.9064 - loss: 0.2683\n",
      "Epoch 8/10\n",
      "1563/1563 - 160s - 103ms/step - accuracy: 0.9254 - loss: 0.2153\n",
      "Epoch 9/10\n",
      "1563/1563 - 149s - 96ms/step - accuracy: 0.9389 - loss: 0.1762\n",
      "Epoch 10/10\n",
      "1563/1563 - 77s - 49ms/step - accuracy: 0.9459 - loss: 0.1580\n"
     ]
    },
    {
     "data": {
      "text/plain": [
       "<keras.src.callbacks.history.History at 0x1e968de7f90>"
      ]
     },
     "execution_count": 33,
     "metadata": {},
     "output_type": "execute_result"
    }
   ],
   "source": [
    "model.fit(x_train, y_train, batch_size=32, epochs=10, verbose=2)\n"
   ]
  },
  {
   "cell_type": "code",
   "execution_count": 34,
   "metadata": {},
   "outputs": [
    {
     "name": "stdout",
     "output_type": "stream",
     "text": [
      "313/313 - 3s - 10ms/step - accuracy: 0.7795 - loss: 0.8825\n"
     ]
    },
    {
     "data": {
      "text/plain": [
       "[0.882529616355896, 0.7795000076293945]"
      ]
     },
     "execution_count": 34,
     "metadata": {},
     "output_type": "execute_result"
    }
   ],
   "source": [
    "model.evaluate(x_test, y_test, verbose=2)"
   ]
  },
  {
   "cell_type": "code",
   "execution_count": 94,
   "metadata": {},
   "outputs": [
    {
     "name": "stdout",
     "output_type": "stream",
     "text": [
      "Epoch 1/5\n",
      "1563/1563 - 45s - 29ms/step - accuracy: 0.7395 - loss: 0.7390\n",
      "Epoch 2/5\n",
      "1563/1563 - 61s - 39ms/step - accuracy: 0.7479 - loss: 0.7181\n",
      "Epoch 3/5\n",
      "1563/1563 - 63s - 40ms/step - accuracy: 0.7555 - loss: 0.6967\n",
      "Epoch 4/5\n",
      "1563/1563 - 61s - 39ms/step - accuracy: 0.7612 - loss: 0.6792\n",
      "Epoch 5/5\n",
      "1563/1563 - 61s - 39ms/step - accuracy: 0.7661 - loss: 0.6705\n",
      "313/313 - 5s - 15ms/step - accuracy: 0.7264 - loss: 0.8195\n"
     ]
    },
    {
     "data": {
      "text/plain": [
       "[0.819455087184906, 0.7264000177383423]"
      ]
     },
     "execution_count": 94,
     "metadata": {},
     "output_type": "execute_result"
    }
   ],
   "source": [
    "model.fit(x_train, y_train, batch_size=32, epochs=5, verbose=2)\n",
    "model.evaluate(x_test, y_test, verbose=2)"
   ]
  },
  {
   "cell_type": "code",
   "execution_count": 95,
   "metadata": {},
   "outputs": [
    {
     "name": "stdout",
     "output_type": "stream",
     "text": [
      "Epoch 1/3\n",
      "1563/1563 - 27s - 18ms/step - accuracy: 0.7704 - loss: 0.6532\n",
      "Epoch 2/3\n",
      "1563/1563 - 29s - 18ms/step - accuracy: 0.7745 - loss: 0.6445\n",
      "Epoch 3/3\n",
      "1563/1563 - 29s - 18ms/step - accuracy: 0.7794 - loss: 0.6306\n",
      "313/313 - 2s - 7ms/step - accuracy: 0.7353 - loss: 0.8128\n"
     ]
    },
    {
     "data": {
      "text/plain": [
       "[0.8128089308738708, 0.7353000044822693]"
      ]
     },
     "execution_count": 95,
     "metadata": {},
     "output_type": "execute_result"
    }
   ],
   "source": [
    "model.fit(x_train, y_train, batch_size=32, epochs=3, verbose=2)\n",
    "model.evaluate(x_test, y_test, verbose=2)"
   ]
  },
  {
   "cell_type": "code",
   "execution_count": 96,
   "metadata": {},
   "outputs": [
    {
     "name": "stdout",
     "output_type": "stream",
     "text": [
      "Epoch 1/5\n",
      "1563/1563 - 26s - 16ms/step - accuracy: 0.7841 - loss: 0.6184\n",
      "Epoch 2/5\n",
      "1563/1563 - 26s - 16ms/step - accuracy: 0.7884 - loss: 0.6037\n",
      "Epoch 3/5\n",
      "1563/1563 - 26s - 17ms/step - accuracy: 0.7929 - loss: 0.5937\n",
      "Epoch 4/5\n",
      "1563/1563 - 26s - 17ms/step - accuracy: 0.7936 - loss: 0.5855\n",
      "Epoch 5/5\n",
      "1563/1563 - 27s - 17ms/step - accuracy: 0.7993 - loss: 0.5741\n",
      "313/313 - 2s - 6ms/step - accuracy: 0.7408 - loss: 0.7759\n"
     ]
    },
    {
     "data": {
      "text/plain": [
       "[0.775932252407074, 0.7408000230789185]"
      ]
     },
     "execution_count": 96,
     "metadata": {},
     "output_type": "execute_result"
    }
   ],
   "source": [
    "model.fit(x_train, y_train, batch_size=32, epochs=5, verbose=2)\n",
    "model.evaluate(x_test, y_test, verbose=2)"
   ]
  },
  {
   "cell_type": "code",
   "execution_count": 3,
   "metadata": {},
   "outputs": [],
   "source": [
    "y_train = y_train.reshape(-1)\n",
    "y_test  = y_test.reshape(-1)\n",
    "def processing(Y, n):\n",
    "    y = np.zeros((Y.shape[0], n))\n",
    "    for i in range(Y.shape[0]):\n",
    "        y[i, int(Y[i])] = 1\n",
    "    return y\n",
    "\n",
    "y_train = processing(y_train, 10)\n",
    "y_test  = processing(y_test , 10)"
   ]
  },
  {
   "cell_type": "code",
   "execution_count": 15,
   "metadata": {},
   "outputs": [],
   "source": [
    "input = Input(shape=(32, 32, 3))\n",
    "conv2d1 = Layer.Conv2D(filters=16, kernel_size=3, padding=1, activation='LeakyReLU', prev_layer=input)\n",
    "maxpooling1 = Layer.MaxPool2D(pool_size=2, prev_layer=conv2d1)\n",
    "conv2d2 = Layer.Conv2D(filters=32, kernel_size=3, padding=1, activation='LeakyReLU', prev_layer=maxpooling1)\n",
    "maxpooling2 = Layer.MaxPool2D(pool_size=2, prev_layer=conv2d2)\n",
    "flatten = Layer.Flatten(prev_layer=maxpooling2)\n",
    "layer1 = Layer.Layer(shape=64, activation='LeakyReLU', prev_layer=flatten)\n",
    "output = Layer.Layer(shape=10, activation='softmax', prev_layer=layer1)\n",
    "model = Model(input=input, output=output)\n",
    "model.compile(loss=Loss.CrossEntropy, optimizer=Optimizers.SGD(learning_rate=0.001, momentum=0.8))"
   ]
  },
  {
   "cell_type": "code",
   "execution_count": 16,
   "metadata": {},
   "outputs": [
    {
     "name": "stdout",
     "output_type": "stream",
     "text": [
      "epoch: 1 Cost: 3.4310150986644654; Accuracy: 0.17672\n",
      "time: 1644.2409052848816\n",
      "epoch: 2 Cost: 2.1731898506628107; Accuracy: 0.2469\n",
      "time: 1111.6623182296753\n",
      "epoch: 3 Cost: 1.9852338758756958; Accuracy: 0.28848\n",
      "time: 587.7925455570221\n",
      "epoch: 4 Cost: 2.09960717090521; Accuracy: 0.27682\n",
      "time: 589.6436660289764\n",
      "epoch: 5 Cost: 1.8508628635233149; Accuracy: 0.32314\n",
      "time: 585.3827166557312\n",
      "epoch: 6 Cost: 2.2416085845190206; Accuracy: 0.25252\n",
      "time: 583.1926739215851\n",
      "epoch: 7 Cost: 1.800509481281264; Accuracy: 0.33112\n",
      "time: 585.823121547699\n",
      "epoch: 8 Cost: 1.8402724173807716; Accuracy: 0.31426\n",
      "time: 584.726172208786\n",
      "epoch: 9 Cost: 1.7193043496132832; Accuracy: 0.35442\n",
      "time: 585.6189212799072\n",
      "epoch: 10 Cost: 1.7352445813904964; Accuracy: 0.35058\n",
      "time: 585.7426462173462\n",
      "Cost: 1.7461204136354587; Accuracy: 0.3437\n"
     ]
    },
    {
     "data": {
      "text/plain": [
       "(17461.204136354587, 0.3437)"
      ]
     },
     "execution_count": 16,
     "metadata": {},
     "output_type": "execute_result"
    }
   ],
   "source": [
    "model.fit(x_train, y_train, batch_size=32, epochs=10)\n",
    "model.evaluate(x_test, y_test)"
   ]
  },
  {
   "cell_type": "code",
   "execution_count": 17,
   "metadata": {},
   "outputs": [
    {
     "name": "stdout",
     "output_type": "stream",
     "text": [
      "epoch: 1 Cost: 1.9020890094023448; Accuracy: 0.30178\n",
      "time: 1072.8291549682617\n",
      "epoch: 2 Cost: 1.780843659269456; Accuracy: 0.32738\n",
      "time: 776.5535895824432\n",
      "epoch: 3 Cost: 1.7774071648760814; Accuracy: 0.34336\n",
      "time: 618.2023203372955\n",
      "epoch: 4 Cost: 1.800508814872238; Accuracy: 0.3425\n",
      "time: 581.5988819599152\n",
      "epoch: 5 Cost: 1.6811895101906051; Accuracy: 0.37936\n",
      "time: 826.5645775794983\n",
      "epoch: 6 Cost: 1.8055707347906984; Accuracy: 0.34154\n",
      "time: 901.9435198307037\n",
      "epoch: 7 Cost: 1.6351319983661308; Accuracy: 0.39172\n",
      "time: 1025.3972549438477\n",
      "epoch: 8 Cost: 1.6273259080075764; Accuracy: 0.39698\n",
      "time: 697.0855028629303\n",
      "epoch: 9 Cost: 1.613733154016474; Accuracy: 0.4107\n",
      "time: 809.933780670166\n",
      "epoch: 10 Cost: 1.5918240726579072; Accuracy: 0.41318\n",
      "time: 706.7536618709564\n",
      "Cost: 1.6095129664910168; Accuracy: 0.4099\n"
     ]
    },
    {
     "data": {
      "text/plain": [
       "(16095.129664910168, 0.4099)"
      ]
     },
     "execution_count": 17,
     "metadata": {},
     "output_type": "execute_result"
    }
   ],
   "source": [
    "model.fit(x_train, y_train, batch_size=32, epochs=10)\n",
    "model.evaluate(x_test, y_test)"
   ]
  },
  {
   "cell_type": "code",
   "execution_count": 18,
   "metadata": {},
   "outputs": [
    {
     "name": "stdout",
     "output_type": "stream",
     "text": [
      "epoch: 1 Cost: 1.8595010155555871; Accuracy: 0.34836\n",
      "time: 1103.7665898799896\n",
      "epoch: 2 Cost: 1.5677701142509686; Accuracy: 0.42716\n",
      "time: 848.5317797660828\n",
      "epoch: 3 Cost: 1.7326985580416099; Accuracy: 0.37308\n",
      "time: 682.4999775886536\n",
      "epoch: 4 Cost: 1.5838548108196495; Accuracy: 0.41356\n",
      "time: 1097.1834409236908\n",
      "epoch: 5 Cost: 1.5704494267251317; Accuracy: 0.4248\n",
      "time: 586.6247704029083\n",
      "epoch: 6 Cost: 1.5746660732923203; Accuracy: 0.41752\n",
      "time: 585.943719625473\n",
      "epoch: 7 Cost: 1.6955612161704134; Accuracy: 0.39182\n",
      "time: 595.1686899662018\n",
      "epoch: 8 Cost: 1.6349738931799087; Accuracy: 0.41318\n",
      "time: 584.6563496589661\n",
      "epoch: 9 Cost: 1.548228736087587; Accuracy: 0.43262\n",
      "time: 592.7624754905701\n",
      "epoch: 10 Cost: 1.519709749402662; Accuracy: 0.4544\n",
      "time: 1032.2045590877533\n",
      "Cost: 1.5467625928863913; Accuracy: 0.4413\n"
     ]
    },
    {
     "data": {
      "text/plain": [
       "(15467.625928863912, 0.4413)"
      ]
     },
     "execution_count": 18,
     "metadata": {},
     "output_type": "execute_result"
    }
   ],
   "source": [
    "model.fit(x_train, y_train, batch_size=32, epochs=10)\n",
    "model.evaluate(x_test, y_test)"
   ]
  },
  {
   "cell_type": "code",
   "execution_count": 19,
   "metadata": {},
   "outputs": [
    {
     "name": "stdout",
     "output_type": "stream",
     "text": [
      "epoch: 1 Cost: 1.6408225855424283; Accuracy: 0.42034\n",
      "time: 1289.9637596607208\n",
      "epoch: 2 Cost: 1.585829088823339; Accuracy: 0.42508\n",
      "time: 808.6180992126465\n",
      "epoch: 3 Cost: 1.4930715188162649; Accuracy: 0.4578\n",
      "time: 824.154616355896\n",
      "epoch: 4 Cost: 1.6483777392593273; Accuracy: 0.41074\n",
      "time: 1575.697223186493\n",
      "epoch: 5 Cost: 1.6283529276995155; Accuracy: 0.42104\n",
      "time: 1571.403071641922\n",
      "epoch: 6 Cost: 1.5165866633957488; Accuracy: 0.45546\n",
      "time: 866.4158849716187\n",
      "epoch: 7 Cost: 1.5122338941826179; Accuracy: 0.45814\n",
      "time: 588.458270072937\n",
      "epoch: 8 Cost: 1.4798017990001553; Accuracy: 0.47456\n",
      "time: 586.1857826709747\n",
      "epoch: 9 Cost: 1.4601844011224594; Accuracy: 0.48124\n",
      "time: 732.1458547115326\n",
      "epoch: 10 Cost: 1.4673522536032202; Accuracy: 0.47532\n",
      "time: 726.4602401256561\n",
      "Cost: 1.5040893036270857; Accuracy: 0.4572\n"
     ]
    },
    {
     "data": {
      "text/plain": [
       "(15040.893036270858, 0.4572)"
      ]
     },
     "execution_count": 19,
     "metadata": {},
     "output_type": "execute_result"
    }
   ],
   "source": [
    "model.fit(x_train, y_train, batch_size=32, epochs=10)\n",
    "model.evaluate(x_test, y_test)"
   ]
  },
  {
   "cell_type": "code",
   "execution_count": 20,
   "metadata": {},
   "outputs": [
    {
     "name": "stdout",
     "output_type": "stream",
     "text": [
      "epoch: 1 Cost: 1.445344895197593; Accuracy: 0.48284\n",
      "time: 875.5451431274414\n",
      "epoch: 2 Cost: 1.4401612321124697; Accuracy: 0.48582\n",
      "time: 586.1709549427032\n",
      "epoch: 3 Cost: 1.4312330630023193; Accuracy: 0.49042\n",
      "time: 581.4745464324951\n",
      "epoch: 4 Cost: 1.4143093731446024; Accuracy: 0.4994\n",
      "time: 712.9059484004974\n",
      "epoch: 5 Cost: 1.4087049136833687; Accuracy: 0.4964\n",
      "time: 719.4953510761261\n",
      "epoch: 6 Cost: 1.4344169601982732; Accuracy: 0.4867\n",
      "time: 664.4009938240051\n",
      "epoch: 7 Cost: 1.4013042917728809; Accuracy: 0.50624\n",
      "time: 623.095240354538\n",
      "epoch: 8 Cost: 1.4215156185506312; Accuracy: 0.5026\n",
      "time: 584.2227206230164\n",
      "epoch: 9 Cost: 1.4228082387461316; Accuracy: 0.50294\n",
      "time: 665.617612361908\n",
      "epoch: 10 Cost: 1.4429078027379414; Accuracy: 0.48698\n",
      "time: 861.3352727890015\n",
      "Cost: 1.4815807459933983; Accuracy: 0.4719\n"
     ]
    },
    {
     "data": {
      "text/plain": [
       "(14815.807459933983, 0.4719)"
      ]
     },
     "execution_count": 20,
     "metadata": {},
     "output_type": "execute_result"
    }
   ],
   "source": [
    "model.fit(x_train, y_train, batch_size=32, epochs=10)\n",
    "model.evaluate(x_test, y_test)"
   ]
  },
  {
   "cell_type": "code",
   "execution_count": 4,
   "metadata": {},
   "outputs": [],
   "source": [
    "input = Input(shape=(32, 32, 3))\n",
    "conv2d1 = Layer.Conv2D(filters=16, kernel_size=3, padding=1, activation='LeakyReLU', prev_layer=input)\n",
    "maxpooling1 = Layer.MaxPool2D(pool_size=2, prev_layer=conv2d1)\n",
    "conv2d2 = Layer.Conv2D(filters=32, kernel_size=3, padding=1, activation='LeakyReLU', prev_layer=maxpooling1)\n",
    "maxpooling2 = Layer.MaxPool2D(pool_size=2, prev_layer=conv2d2)\n",
    "flatten = Layer.Flatten(prev_layer=maxpooling2)\n",
    "layer1 = Layer.Layer(shape=64, activation='LeakyReLU', prev_layer=flatten)\n",
    "output = Layer.Layer(shape=10, activation='softmax', prev_layer=layer1)\n",
    "model = Model(input=input, output=output)\n",
    "model.compile(loss=Loss.CrossEntropy, optimizer=Optimizers.Adam(learning_rate=0.05))"
   ]
  },
  {
   "cell_type": "code",
   "execution_count": 26,
   "metadata": {},
   "outputs": [
    {
     "name": "stdout",
     "output_type": "stream",
     "text": [
      "epoch: 1 Cost: 1.093234318471139; Accuracy: 0.61264\n",
      "time: 583.2808072566986\n",
      "epoch: 2 Cost: 1.0031641547919263; Accuracy: 0.64696\n",
      "time: 592.4616067409515\n",
      "epoch: 3 Cost: 0.8762854095080389; Accuracy: 0.69456\n",
      "time: 592.1812882423401\n",
      "epoch: 4 Cost: 0.786110350411907; Accuracy: 0.7218\n",
      "time: 593.5605430603027\n",
      "epoch: 5 Cost: 0.7015914938059203; Accuracy: 0.75622\n",
      "time: 592.2899160385132\n",
      "Cost: 0.9624712277157512; Accuracy: 0.6738\n"
     ]
    },
    {
     "data": {
      "text/plain": [
       "(9624.712277157512, 0.6738)"
      ]
     },
     "execution_count": 26,
     "metadata": {},
     "output_type": "execute_result"
    }
   ],
   "source": [
    "model.fit(x_train, y_train, batch_size=32, epochs=5)\n",
    "model.evaluate(x_test, y_test)"
   ]
  },
  {
   "cell_type": "code",
   "execution_count": 28,
   "metadata": {},
   "outputs": [
    {
     "name": "stdout",
     "output_type": "stream",
     "text": [
      "epoch: 1 Cost: 0.716306618879107; Accuracy: 0.74676\n",
      "time: 582.9265518188477\n",
      "epoch: 2 Cost: 0.5638126722600478; Accuracy: 0.804\n",
      "time: 582.2219569683075\n",
      "epoch: 3 Cost: 0.5060759970410014; Accuracy: 0.82488\n",
      "time: 584.1771104335785\n",
      "epoch: 4 Cost: 0.44990550104064997; Accuracy: 0.84412\n",
      "time: 582.6200776100159\n",
      "epoch: 5 Cost: 0.4114440103110075; Accuracy: 0.85726\n",
      "time: 581.0924179553986\n",
      "Cost: 1.0810200770823055; Accuracy: 0.6752\n"
     ]
    },
    {
     "data": {
      "text/plain": [
       "(10810.200770823056, 0.6752)"
      ]
     },
     "execution_count": 28,
     "metadata": {},
     "output_type": "execute_result"
    }
   ],
   "source": [
    "model.fit(x_train, y_train, batch_size=32, epochs=5)\n",
    "model.evaluate(x_test, y_test)"
   ]
  },
  {
   "cell_type": "code",
   "execution_count": 31,
   "metadata": {},
   "outputs": [
    {
     "name": "stdout",
     "output_type": "stream",
     "text": [
      "epoch: 1 Cost: 0.2994587001727544; Accuracy: 0.89364\n",
      "time: 891.7731800079346\n",
      "epoch: 2 Cost: 0.27471253688932445; Accuracy: 0.90424\n",
      "time: 579.2532870769501\n",
      "epoch: 3 Cost: 0.2511360630257274; Accuracy: 0.91002\n",
      "time: 580.7413556575775\n",
      "epoch: 4 Cost: 0.2427914699343006; Accuracy: 0.91264\n",
      "time: 579.790853023529\n",
      "epoch: 5 Cost: 0.21058732836228294; Accuracy: 0.9229\n",
      "time: 580.6907026767731\n",
      "Cost: 1.7446928670687105; Accuracy: 0.6569\n"
     ]
    },
    {
     "data": {
      "text/plain": [
       "(17446.928670687106, 0.6569)"
      ]
     },
     "execution_count": 31,
     "metadata": {},
     "output_type": "execute_result"
    }
   ],
   "source": [
    "model.fit(x_train, y_train, batch_size=32, epochs=5)\n",
    "model.evaluate(x_test, y_test)"
   ]
  },
  {
   "cell_type": "code",
   "execution_count": 32,
   "metadata": {},
   "outputs": [
    {
     "name": "stdout",
     "output_type": "stream",
     "text": [
      "epoch: 1 Cost: 0.21340977084135349; Accuracy: 0.92166\n",
      "time: 579.3316323757172\n",
      "epoch: 2 Cost: 0.20393362051076327; Accuracy: 0.92746\n",
      "time: 578.5203309059143\n",
      "epoch: 3 Cost: 0.1916122291655852; Accuracy: 0.9316\n",
      "time: 577.6226780414581\n",
      "epoch: 4 Cost: 0.17960454144659543; Accuracy: 0.93484\n",
      "time: 579.1019296646118\n",
      "epoch: 5 Cost: 0.1865253271813648; Accuracy: 0.93298\n",
      "time: 581.8384070396423\n",
      "Cost: 2.1660227722930805; Accuracy: 0.6532\n"
     ]
    },
    {
     "data": {
      "text/plain": [
       "(21660.227722930806, 0.6532)"
      ]
     },
     "execution_count": 32,
     "metadata": {},
     "output_type": "execute_result"
    }
   ],
   "source": [
    "model.fit(x_train, y_train, batch_size=32, epochs=5)\n",
    "model.evaluate(x_test, y_test)"
   ]
  },
  {
   "cell_type": "code",
   "execution_count": 4,
   "metadata": {},
   "outputs": [],
   "source": [
    "input = Input(shape=(32, 32, 3))\n",
    "conv2d1 = Layer.Conv2D(filters=16, kernel_size=3, padding=1, activation='LeakyReLU', prev_layer=input)\n",
    "maxpooling1 = Layer.MaxPool2D(pool_size=2, prev_layer=conv2d1)\n",
    "conv2d2 = Layer.Conv2D(filters=32, kernel_size=3, padding=1, activation='LeakyReLU', prev_layer=maxpooling1)\n",
    "maxpooling2 = Layer.MaxPool2D(pool_size=2, prev_layer=conv2d2)\n",
    "flatten = Layer.Flatten(prev_layer=maxpooling2)\n",
    "layer1 = Layer.Layer(shape=256, activation='LeakyReLU', prev_layer=flatten)\n",
    "layer2 = Layer.Layer(shape=128, activation='LeakyReLU', prev_layer=layer1)\n",
    "output = Layer.Layer(shape=10, activation='softmax', prev_layer=layer2)\n",
    "model = Model(input=input, output=output)\n",
    "model.compile(loss=Loss.CrossEntropy, optimizer=Optimizers.Adam(learning_rate=0.05))"
   ]
  },
  {
   "cell_type": "code",
   "execution_count": 5,
   "metadata": {},
   "outputs": [
    {
     "name": "stdout",
     "output_type": "stream",
     "text": [
      "epoch: 1 Cost: 2.2154266190519643; Accuracy: 0.17176\n",
      "time: 1740.6323974132538\n",
      "epoch: 2 Cost: 2.1617470842688737; Accuracy: 0.19198\n",
      "time: 1477.5212593078613\n",
      "epoch: 3 Cost: 2.0723745361251065; Accuracy: 0.25602\n",
      "time: 593.9951863288879\n",
      "epoch: 4 Cost: 2.059452959102511; Accuracy: 0.25752\n",
      "time: 1007.3471820354462\n",
      "epoch: 5 Cost: 2.053148479199651; Accuracy: 0.26232\n",
      "time: 618.2029492855072\n",
      "Cost: 2.0550867787141525; Accuracy: 0.2621\n"
     ]
    },
    {
     "data": {
      "text/plain": [
       "(20550.867787141524, 0.2621)"
      ]
     },
     "execution_count": 5,
     "metadata": {},
     "output_type": "execute_result"
    }
   ],
   "source": [
    "model.fit(x_train, y_train, batch_size=32, epochs=5)\n",
    "model.evaluate(x_test, y_test)"
   ]
  },
  {
   "cell_type": "code",
   "execution_count": 6,
   "metadata": {},
   "outputs": [
    {
     "name": "stdout",
     "output_type": "stream",
     "text": [
      "epoch: 1 Cost: 1.9230611604649082; Accuracy: 0.30234\n",
      "time: 629.0259039402008\n",
      "epoch: 2 Cost: 1.7665433215196384; Accuracy: 0.36508\n",
      "time: 592.3642928600311\n",
      "epoch: 3 Cost: 1.5087583286606396; Accuracy: 0.46104\n",
      "time: 594.2380044460297\n",
      "epoch: 4 Cost: 1.3177010363868245; Accuracy: 0.52338\n",
      "time: 609.0193259716034\n",
      "epoch: 5 Cost: 1.1668816700956968; Accuracy: 0.5819\n",
      "time: 878.1495904922485\n",
      "epoch: 6 Cost: 1.0296144855773908; Accuracy: 0.63212\n",
      "time: 676.2941999435425\n",
      "epoch: 7 Cost: 0.8957625230476776; Accuracy: 0.68462\n",
      "time: 624.6458084583282\n",
      "epoch: 8 Cost: 0.7571800307293549; Accuracy: 0.73552\n",
      "time: 792.4818599224091\n",
      "epoch: 9 Cost: 0.7105699393891066; Accuracy: 0.7505\n",
      "time: 656.7396070957184\n",
      "epoch: 10 Cost: 0.5611200472297793; Accuracy: 0.80656\n",
      "time: 724.675400018692\n",
      "Cost: 1.0330461010912635; Accuracy: 0.6506\n"
     ]
    },
    {
     "data": {
      "text/plain": [
       "(10330.461010912635, 0.6506)"
      ]
     },
     "execution_count": 6,
     "metadata": {},
     "output_type": "execute_result"
    }
   ],
   "source": [
    "model.fit(x_train, y_train, batch_size=32, epochs=10)\n",
    "model.evaluate(x_test, y_test)"
   ]
  },
  {
   "cell_type": "code",
   "execution_count": 13,
   "metadata": {},
   "outputs": [],
   "source": [
    "input = Input(shape=(32, 32, 3))\n",
    "conv2d1 = Layer.Conv2D(filters=32, kernel_size=3, padding=1, activation='LeakyReLU', prev_layer=input)\n",
    "maxpooling1 = Layer.MaxPool2D(pool_size=2, prev_layer=conv2d1)\n",
    "conv2d2 = Layer.Conv2D(filters=64, kernel_size=3, padding=1, activation='LeakyReLU', prev_layer=maxpooling1)\n",
    "maxpooling2 = Layer.MaxPool2D(pool_size=2, prev_layer=conv2d2)\n",
    "flatten = Layer.Flatten(prev_layer=maxpooling2)\n",
    "layer1 = Layer.Layer(shape=256, activation='LeakyReLU', prev_layer=flatten)\n",
    "layer2 = Layer.Layer(shape=128, activation='LeakyReLU', prev_layer=layer1)\n",
    "output = Layer.Layer(shape=10, activation='softmax', prev_layer=layer2)\n",
    "model = Model(input=input, output=output)\n",
    "model.compile(loss=Loss.CrossEntropy, optimizer=Optimizers.Adam(learning_rate=0.05))"
   ]
  },
  {
   "cell_type": "code",
   "execution_count": 8,
   "metadata": {},
   "outputs": [
    {
     "name": "stdout",
     "output_type": "stream",
     "text": [
      "epoch: 1 Cost: 2.1080607349616227; Accuracy: 0.24352\n",
      "time: 803.4739382266998\n",
      "epoch: 2 Cost: 2.0551977987968706; Accuracy: 0.26324\n",
      "time: 801.2875101566315\n",
      "epoch: 3 Cost: 2.006409145175767; Accuracy: 0.27278\n",
      "time: 799.2957134246826\n",
      "epoch: 4 Cost: 2.2872859932794745; Accuracy: 0.18744\n",
      "time: 800.2605266571045\n",
      "epoch: 5 Cost: 2.005830180318789; Accuracy: 0.274\n",
      "time: 798.2551839351654\n",
      "Cost: 2.01089731281738; Accuracy: 0.2773\n"
     ]
    },
    {
     "data": {
      "text/plain": [
       "(20108.9731281738, 0.2773)"
      ]
     },
     "execution_count": 8,
     "metadata": {},
     "output_type": "execute_result"
    }
   ],
   "source": [
    "model.fit(x_train, y_train, batch_size=32, epochs=5)\n",
    "model.evaluate(x_test, y_test)"
   ]
  },
  {
   "cell_type": "code",
   "execution_count": 9,
   "metadata": {},
   "outputs": [
    {
     "name": "stdout",
     "output_type": "stream",
     "text": [
      "epoch: 1 Cost: 2.0433749532105603; Accuracy: 0.25348\n",
      "time: 801.357569694519\n",
      "epoch: 2 Cost: 1.9313791848748976; Accuracy: 0.29284\n",
      "time: 796.938472032547\n",
      "epoch: 3 Cost: 1.8256028845634424; Accuracy: 0.34848\n",
      "time: 798.835610628128\n",
      "epoch: 4 Cost: 1.7393815888656288; Accuracy: 0.375\n",
      "time: 800.4117460250854\n",
      "epoch: 5 Cost: 1.6622119076151383; Accuracy: 0.4106\n",
      "time: 800.2616496086121\n",
      "Cost: 1.656407952392489; Accuracy: 0.4159\n"
     ]
    },
    {
     "data": {
      "text/plain": [
       "(16564.07952392489, 0.4159)"
      ]
     },
     "execution_count": 9,
     "metadata": {},
     "output_type": "execute_result"
    }
   ],
   "source": [
    "model.fit(x_train, y_train, batch_size=32, epochs=5)\n",
    "model.evaluate(x_test, y_test)"
   ]
  },
  {
   "cell_type": "code",
   "execution_count": 16,
   "metadata": {},
   "outputs": [],
   "source": [
    "input = Input(shape=(32, 32, 3))\n",
    "conv2d1 = Layer.Conv2D(filters=24, kernel_size=3, padding=1, activation='LeakyReLU', prev_layer=input)\n",
    "maxpooling1 = Layer.MaxPool2D(pool_size=2, prev_layer=conv2d1)\n",
    "conv2d2 = Layer.Conv2D(filters=48, kernel_size=3, padding=1, activation='LeakyReLU', prev_layer=maxpooling1)\n",
    "maxpooling2 = Layer.MaxPool2D(pool_size=2, prev_layer=conv2d2)\n",
    "flatten = Layer.Flatten(prev_layer=maxpooling2)\n",
    "layer1 = Layer.Layer(shape=256, activation='LeakyReLU', prev_layer=flatten)\n",
    "layer2 = Layer.Layer(shape=128, activation='LeakyReLU', prev_layer=layer1)\n",
    "output = Layer.Layer(shape=10, activation='softmax', prev_layer=layer2)\n",
    "model = Model(input=input, output=output)\n",
    "model.compile(loss=Loss.CrossEntropy, optimizer=Optimizers.Adam(learning_rate=0.05))"
   ]
  },
  {
   "cell_type": "code",
   "execution_count": 17,
   "metadata": {},
   "outputs": [
    {
     "name": "stdout",
     "output_type": "stream",
     "text": [
      "epoch: 1 Cost: 4.104805713774456; Accuracy: 0.10248\n",
      "time: 688.1953938007355\n",
      "epoch: 2 Cost: 2.1807534756284976; Accuracy: 0.20794\n",
      "time: 687.5185747146606\n",
      "epoch: 3 Cost: 2.403917660491938; Accuracy: 0.19616\n",
      "time: 691.1796677112579\n",
      "epoch: 4 Cost: 2.0973595669354506; Accuracy: 0.23968\n",
      "time: 688.339094877243\n",
      "epoch: 5 Cost: 2.12223876912543; Accuracy: 0.23612\n",
      "time: 689.489661693573\n",
      "Cost: 2.1245965237016335; Accuracy: 0.2396\n"
     ]
    },
    {
     "data": {
      "text/plain": [
       "(21245.965237016335, 0.2396)"
      ]
     },
     "execution_count": 17,
     "metadata": {},
     "output_type": "execute_result"
    }
   ],
   "source": [
    "model.fit(x_train, y_train, batch_size=32, epochs=5)\n",
    "model.evaluate(x_test, y_test)"
   ]
  },
  {
   "cell_type": "code",
   "execution_count": 18,
   "metadata": {},
   "outputs": [
    {
     "name": "stdout",
     "output_type": "stream",
     "text": [
      "epoch: 1 Cost: 1.8698349768955906; Accuracy: 0.319\n",
      "time: 691.9100179672241\n",
      "epoch: 2 Cost: 1.6303608271014067; Accuracy: 0.41514\n",
      "time: 688.6793496608734\n",
      "epoch: 3 Cost: 1.379683248150879; Accuracy: 0.4986\n",
      "time: 691.3263869285583\n",
      "epoch: 4 Cost: 1.2069825170449542; Accuracy: 0.56174\n",
      "time: 690.2018532752991\n",
      "epoch: 5 Cost: 1.0997541984227173; Accuracy: 0.6138\n",
      "time: 691.085390329361\n",
      "Cost: 1.1868542229295005; Accuracy: 0.5841\n"
     ]
    },
    {
     "data": {
      "text/plain": [
       "(11868.542229295004, 0.5841)"
      ]
     },
     "execution_count": 18,
     "metadata": {},
     "output_type": "execute_result"
    }
   ],
   "source": [
    "model.fit(x_train, y_train, batch_size=32, epochs=5)\n",
    "model.evaluate(x_test, y_test)"
   ]
  },
  {
   "cell_type": "code",
   "execution_count": 19,
   "metadata": {},
   "outputs": [
    {
     "name": "stdout",
     "output_type": "stream",
     "text": [
      "epoch: 1 Cost: 0.9221570111903484; Accuracy: 0.68308\n",
      "time: 703.3626668453217\n",
      "epoch: 2 Cost: 0.7381697467626388; Accuracy: 0.74322\n",
      "time: 870.3050944805145\n",
      "epoch: 3 Cost: 0.662122926328721; Accuracy: 0.76942\n",
      "time: 717.2302424907684\n",
      "epoch: 4 Cost: 0.5080082568881026; Accuracy: 0.82638\n",
      "time: 996.5891671180725\n",
      "epoch: 5 Cost: 0.4104722914059452; Accuracy: 0.8576\n",
      "time: 733.0339713096619\n",
      "Cost: 1.088276152499775; Accuracy: 0.6757\n"
     ]
    },
    {
     "data": {
      "text/plain": [
       "(10882.76152499775, 0.6757)"
      ]
     },
     "execution_count": 19,
     "metadata": {},
     "output_type": "execute_result"
    }
   ],
   "source": [
    "model.fit(x_train, y_train, batch_size=32, epochs=5)\n",
    "model.evaluate(x_test, y_test)"
   ]
  },
  {
   "cell_type": "code",
   "execution_count": 2,
   "metadata": {},
   "outputs": [],
   "source": [
    "import tensorflow as tf\n",
    "from tensorflow.keras.datasets import mnist\n",
    "\n",
    "(x_train, y_train), (x_test, y_test) = mnist.load_data()\n",
    "x_train = x_train.astype(\"float64\") / 255.0\n",
    "x_test  = x_test.astype('float64') / 255.0\n",
    "x_train = tf.convert_to_tensor(x_train)\n",
    "x_test  = tf.convert_to_tensor(x_test)\n",
    "x_train = (x_train.numpy())\n",
    "x_test  = (x_test.numpy())\n",
    "\n",
    "x_train = x_train.reshape(60000, -1)\n",
    "x_test  = x_test.reshape(10000, -1)\n",
    "y_train = processing(y_train, 10)\n",
    "y_test  = processing(y_test , 10)\n",
    "\n",
    "x_validate = x_test[:5000]\n",
    "y_validate = y_test[:5000]\n",
    "x_test = x_test[5000:]\n",
    "y_test = y_test[5000:]\n",
    "\n",
    "input = Input(shape=28*28)\n",
    "layer1 = Layer.Layer(shape=512, activation='ReLU', prev_layer=input)\n",
    "layer2 = Layer.Layer(shape=256, activation='ReLU', prev_layer=layer1)\n",
    "output = Layer.Layer(shape=10, activation='softmax', prev_layer=layer2)\n",
    "model = Model(input=input, output=output)\n",
    "model.compile(loss=Loss.CrossEntropy, optimizer=Optimizers.Adam(learning_rate=0.01))"
   ]
  },
  {
   "cell_type": "code",
   "execution_count": 5,
   "metadata": {},
   "outputs": [
    {
     "name": "stdout",
     "output_type": "stream",
     "text": [
      "Epoch: 1\n",
      "Training. Cost: 0.2943; Accuracy: 0.9145; Validation. Cost: 0.3589; Accuracy: 0.8946\n",
      "time: 19.277618646621704\n",
      "Epoch: 2\n",
      "Training. Cost: 0.1736; Accuracy: 0.9478; Validation. Cost: 0.2264; Accuracy: 0.9298\n",
      "time: 17.91534733772278\n",
      "Epoch: 3\n",
      "Training. Cost: 0.0966; Accuracy: 0.9724; Validation. Cost: 0.1401; Accuracy: 0.9550\n",
      "time: 19.15115785598755\n",
      "Epoch: 4\n",
      "Training. Cost: 0.0671; Accuracy: 0.9804; Validation. Cost: 0.1204; Accuracy: 0.9608\n",
      "time: 18.245452165603638\n",
      "Epoch: 5\n",
      "Training. Cost: 0.0502; Accuracy: 0.9849; Validation. Cost: 0.1124; Accuracy: 0.9644\n",
      "time: 17.94081997871399\n",
      "Epoch: 6\n",
      "Training. Cost: 0.0324; Accuracy: 0.9903; Validation. Cost: 0.1016; Accuracy: 0.9670\n",
      "time: 18.813800573349\n",
      "Epoch: 7\n",
      "Training. Cost: 0.0225; Accuracy: 0.9935; Validation. Cost: 0.1019; Accuracy: 0.9690\n",
      "time: 18.643080711364746\n",
      "Epoch: 8\n",
      "Training. Cost: 0.0215; Accuracy: 0.9931; Validation. Cost: 0.1011; Accuracy: 0.9700\n",
      "time: 18.940685749053955\n",
      "Epoch: 9\n",
      "Training. Cost: 0.0127; Accuracy: 0.9961; Validation. Cost: 0.1088; Accuracy: 0.9710\n",
      "time: 20.771482467651367\n",
      "Epoch: 10\n",
      "Training. Cost: 0.0068; Accuracy: 0.9982; Validation. Cost: 0.0953; Accuracy: 0.9740\n",
      "time: 18.841732263565063\n",
      "Epoch: 11\n",
      "Training. Cost: 0.0080; Accuracy: 0.9976; Validation. Cost: 0.1094; Accuracy: 0.9752\n",
      "time: 19.114768266677856\n",
      "Epoch: 12\n",
      "Training. Cost: 0.0111; Accuracy: 0.9961; Validation. Cost: 0.1264; Accuracy: 0.9694\n",
      "time: 19.66911745071411\n",
      "Cost: 0.0565; Accuracy: 0.9870\n"
     ]
    },
    {
     "data": {
      "text/plain": [
       "(282.7075184366518, 0.987)"
      ]
     },
     "execution_count": 5,
     "metadata": {},
     "output_type": "execute_result"
    }
   ],
   "source": [
    "model.fit(x_train, y_train, x_validate, y_validate, batch_size=32, epochs=12)\n",
    "model.evaluate(x_test, y_test)"
   ]
  },
  {
   "cell_type": "code",
   "execution_count": 2,
   "metadata": {},
   "outputs": [],
   "source": [
    "from tensorflow.keras.datasets import cifar10\n",
    "\n",
    "(x_train, y_train), (x_test, y_test) = cifar10.load_data()\n",
    "x_train = x_train.astype(\"float64\") / 255.0\n",
    "x_test  = x_test.astype('float64') / 255.0\n",
    "x_train = tf.convert_to_tensor(x_train)\n",
    "x_test = tf.convert_to_tensor(x_test)\n",
    "x_train = (x_train.numpy())\n",
    "x_test = (x_test.numpy())\n",
    "\n",
    "y_train = processing(y_train, 10)\n",
    "y_test  = processing(y_test , 10)\n",
    "\n",
    "x_validate = x_test[:5000]\n",
    "y_validate = y_test[:5000]\n",
    "x_test = x_test[5000:]\n",
    "y_test = y_test[5000:]"
   ]
  },
  {
   "cell_type": "code",
   "execution_count": 3,
   "metadata": {},
   "outputs": [],
   "source": [
    "input = Input(shape=(32, 32, 3))\n",
    "conv2d1 = Layer.Conv2D(filters=16, kernel_size=3, padding=1, activation='ReLU', prev_layer=input)\n",
    "maxpooling1 = Layer.MaxPool2D(pool_size=2, prev_layer=conv2d1)\n",
    "conv2d2 = Layer.Conv2D(filters=32, kernel_size=3, padding=1, activation='ReLU', prev_layer=maxpooling1)\n",
    "maxpooling2 = Layer.MaxPool2D(pool_size=2, prev_layer=conv2d2)\n",
    "flatten = Layer.Flatten(prev_layer=maxpooling2)\n",
    "layer1 = Layer.Layer(shape=256, activation='ReLU', prev_layer=flatten)\n",
    "output = Layer.Layer(shape=10, activation='softmax', prev_layer=layer1)\n",
    "model = Model(input=input, output=output)\n",
    "model.compile(loss=Loss.CrossEntropy, optimizer=Optimizers.Adam(learning_rate=0.005))"
   ]
  },
  {
   "cell_type": "code",
   "execution_count": 4,
   "metadata": {},
   "outputs": [
    {
     "name": "stdout",
     "output_type": "stream",
     "text": [
      "Epoch: 1\n",
      "Training. Cost: 6.1065; Accuracy: 0.1320; Validation. Cost: 6.1721; Accuracy: 0.1328\n",
      "time: 852.0533638000488\n",
      "Epoch: 2\n",
      "Training. Cost: 3.4043; Accuracy: 0.1265; Validation. Cost: 3.4192; Accuracy: 0.1282\n",
      "time: 654.7130830287933\n",
      "Cost: 3.4317; Accuracy: 0.1244\n"
     ]
    },
    {
     "data": {
      "text/plain": [
       "(17158.61170464909, 0.1244)"
      ]
     },
     "execution_count": 4,
     "metadata": {},
     "output_type": "execute_result"
    }
   ],
   "source": [
    "model.fit(x_train, y_train, x_validate, y_validate, batch_size=32, epochs=2)\n",
    "model.evaluate(x_test, y_test)"
   ]
  },
  {
   "cell_type": "code",
   "execution_count": null,
   "metadata": {},
   "outputs": [],
   "source": []
  }
 ],
 "metadata": {
  "kernelspec": {
   "display_name": "Python 3",
   "language": "python",
   "name": "python3"
  },
  "language_info": {
   "codemirror_mode": {
    "name": "ipython",
    "version": 3
   },
   "file_extension": ".py",
   "mimetype": "text/x-python",
   "name": "python",
   "nbconvert_exporter": "python",
   "pygments_lexer": "ipython3",
   "version": "3.11.5"
  }
 },
 "nbformat": 4,
 "nbformat_minor": 2
}
