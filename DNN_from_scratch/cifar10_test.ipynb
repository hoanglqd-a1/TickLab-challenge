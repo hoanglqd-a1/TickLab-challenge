{
 "cells": [
  {
   "cell_type": "code",
   "execution_count": 1,
   "metadata": {},
   "outputs": [],
   "source": [
    "import tensorflow as tf\n",
    "from tensorflow.keras.datasets import cifar10\n",
    "import os \n",
    "from time import time\n",
    "os.environ['TF_ENABLE_ONEDNN_OPTS'] = '0'\n",
    "\n",
    "(x_train, y_train), (x_test, y_test) = cifar10.load_data()\n",
    "x_train = x_train.astype(\"float64\") / 255.0\n",
    "x_test  = x_test.astype('float64') / 255.0\n",
    "x_train = tf.convert_to_tensor(x_train)\n",
    "x_test = tf.convert_to_tensor(x_test)\n",
    "x_train = (x_train.numpy())\n",
    "x_test = (x_test.numpy())\n",
    "\n",
    "y_train = y_train.reshape(-1)\n",
    "y_test  = y_test.reshape(-1)\n",
    "\n",
    "from DNN import *\n",
    "\n",
    "y_train = processing(y_train, 10)\n",
    "y_test  = processing(y_test , 10)\n"
   ]
  },
  {
   "cell_type": "code",
   "execution_count": 2,
   "metadata": {},
   "outputs": [],
   "source": [
    "x_train = x_train[:1000]\n",
    "x_test  = x_test[:500]\n",
    "y_train = y_train[:1000]\n",
    "y_test  = y_test[:500]"
   ]
  },
  {
   "cell_type": "code",
   "execution_count": 4,
   "metadata": {},
   "outputs": [
    {
     "name": "stdout",
     "output_type": "stream",
     "text": [
      "epoch: 1 Cost: 10.683827810332035; Accuracy: 0.109\n",
      "epoch: 2 Cost: 9.791064961330541; Accuracy: 0.123\n",
      "epoch: 3 Cost: 11.229940812115323; Accuracy: 0.112\n",
      "epoch: 4 Cost: 10.707229062058746; Accuracy: 0.106\n",
      "epoch: 5 Cost: 10.992439003768817; Accuracy: 0.098\n",
      "epoch: 6 Cost: 8.085475779788478; Accuracy: 0.148\n",
      "epoch: 7 Cost: 9.322741565975468; Accuracy: 0.108\n",
      "epoch: 8 Cost: 7.3968272119754515; Accuracy: 0.175\n",
      "epoch: 9 Cost: 8.050402743915633; Accuracy: 0.148\n",
      "epoch: 10 Cost: 6.841343163230966; Accuracy: 0.132\n",
      "epoch: 11 Cost: 5.557797238678809; Accuracy: 0.219\n",
      "epoch: 12 Cost: 4.637545674804243; Accuracy: 0.232\n",
      "epoch: 13 Cost: 8.781842802654266; Accuracy: 0.187\n",
      "epoch: 14 Cost: 5.700973825733463; Accuracy: 0.164\n",
      "epoch: 15 Cost: 7.216042257609917; Accuracy: 0.112\n",
      "epoch: 16 Cost: 5.465305521009055; Accuracy: 0.152\n",
      "epoch: 17 Cost: 6.026425892002934; Accuracy: 0.151\n",
      "epoch: 18 Cost: 5.133474915010508; Accuracy: 0.225\n",
      "epoch: 19 Cost: 3.1509416904274308; Accuracy: 0.199\n",
      "epoch: 20 Cost: 4.101388189940246; Accuracy: 0.155\n"
     ]
    },
    {
     "data": {
      "text/plain": [
       "(2210.6234086226164, 0.126)"
      ]
     },
     "execution_count": 4,
     "metadata": {},
     "output_type": "execute_result"
    }
   ],
   "source": [
    "input = Input(shape=(32, 32, 3))\n",
    "conv2d1 = Layer.Conv2D(filters=16, kernel_size=3, padding=1, activation='LeakyReLU', prev_layer=input)\n",
    "maxpooling1 = Layer.MaxPool2D(pool_size=2, prev_layer=conv2d1)\n",
    "conv2d2 = Layer.Conv2D(filters=32, kernel_size=3, padding=1, activation='LeakyReLU', prev_layer=maxpooling1)\n",
    "maxpooling2 = Layer.MaxPool2D(pool_size=2, prev_layer=conv2d2)\n",
    "flatten = Layer.Flatten(prev_layer=maxpooling2)\n",
    "layer1 = Layer.Layer(shape=128, activation='LeakyReLU', prev_layer=flatten)\n",
    "output = Layer.Layer(shape=10, activation='softmax', prev_layer=layer1)\n",
    "model = Model(input=input, output=output)\n",
    "model.compile(loss=Loss.CrossEntropy, optimizer=Optimizers.Adam(learning_rate=0.001))\n",
    "\n",
    "model.fit(x_train=x_train, y_train=y_train, batch_size=8, epochs=20)\n",
    "model.evaluate(x_test, y_test, verbose=0)"
   ]
  },
  {
   "cell_type": "code",
   "execution_count": 4,
   "metadata": {},
   "outputs": [
    {
     "name": "stdout",
     "output_type": "stream",
     "text": [
      "epoch: 1 Cost: 11.480623911933638; Accuracy: 0.095\n",
      "epoch: 2 Cost: 11.853644924148504; Accuracy: 0.126\n",
      "epoch: 3 Cost: 11.702644239405373; Accuracy: 0.117\n",
      "epoch: 4 Cost: 11.503724227400859; Accuracy: 0.113\n",
      "epoch: 5 Cost: 6.742035322234602; Accuracy: 0.204\n",
      "epoch: 6 Cost: 8.80337215444902; Accuracy: 0.131\n",
      "epoch: 7 Cost: 3.9187923158823867; Accuracy: 0.184\n",
      "epoch: 8 Cost: 2.991676583563977; Accuracy: 0.16\n",
      "epoch: 9 Cost: 3.03370735590168; Accuracy: 0.186\n",
      "epoch: 10 Cost: 2.2851621892796414; Accuracy: 0.22\n"
     ]
    }
   ],
   "source": [
    "input = Input(shape=(32, 32, 3))\n",
    "conv2d1 = Layer.Conv2D(filters=16, kernel_size=3, padding=1, activation='LeakyReLU', prev_layer=input)\n",
    "maxpooling1 = Layer.MaxPool2D(pool_size=2, prev_layer=conv2d1)\n",
    "conv2d2 = Layer.Conv2D(filters=32, kernel_size=3, padding=1, activation='LeakyReLU', prev_layer=maxpooling1)\n",
    "maxpooling2 = Layer.MaxPool2D(pool_size=2, prev_layer=conv2d2)\n",
    "flatten = Layer.Flatten(prev_layer=maxpooling2)\n",
    "layer1 = Layer.Layer(shape=128, activation='LeakyReLU', prev_layer=flatten)\n",
    "output = Layer.Layer(shape=10, activation='softmax', prev_layer=layer1)\n",
    "model = Model(input=input, output=output)\n",
    "model.compile(loss=Loss.CrossEntropy, optimizer=Optimizers.SGD(learning_rate=0.001))\n",
    "model.fit(x_train=x_train, y_train=y_train, batch_size=8, epochs=20)\n",
    "model.evaluate(x_test, y_test, verbose=0)"
   ]
  },
  {
   "cell_type": "code",
   "execution_count": 9,
   "metadata": {},
   "outputs": [
    {
     "name": "stdout",
     "output_type": "stream",
     "text": [
      "epoch: 1 Cost: 2.2409138217347233; Accuracy: 0.243\n",
      "epoch: 2 Cost: 1.9855855264431401; Accuracy: 0.282\n",
      "epoch: 3 Cost: 2.23047609886978; Accuracy: 0.247\n",
      "epoch: 4 Cost: 1.9925077113807723; Accuracy: 0.291\n",
      "epoch: 5 Cost: 2.0345105011486337; Accuracy: 0.276\n",
      "epoch: 6 Cost: 2.2558695195981353; Accuracy: 0.229\n",
      "epoch: 7 Cost: 1.9077520921596578; Accuracy: 0.321\n",
      "epoch: 8 Cost: 1.9924150113964438; Accuracy: 0.268\n",
      "epoch: 9 Cost: 1.875111442218642; Accuracy: 0.323\n",
      "epoch: 10 Cost: 2.62296534746267; Accuracy: 0.206\n",
      "epoch: 11 Cost: 2.3459910330371487; Accuracy: 0.251\n",
      "epoch: 12 Cost: 1.9265666096689047; Accuracy: 0.297\n",
      "epoch: 13 Cost: 2.152633828705655; Accuracy: 0.253\n",
      "epoch: 14 Cost: 1.882421916185585; Accuracy: 0.322\n",
      "epoch: 15 Cost: 1.9547227353139232; Accuracy: 0.307\n",
      "epoch: 16 Cost: 1.927478951424351; Accuracy: 0.31\n",
      "epoch: 17 Cost: 1.944997607950594; Accuracy: 0.295\n",
      "epoch: 18 Cost: 1.9679855437891396; Accuracy: 0.304\n",
      "epoch: 19 Cost: 1.9211757370209372; Accuracy: 0.339\n",
      "epoch: 20 Cost: 1.8509198225174945; Accuracy: 0.336\n"
     ]
    }
   ],
   "source": [
    "model.fit(x_train=x_train, y_train=y_train, batch_size=8, epochs=20)"
   ]
  },
  {
   "cell_type": "code",
   "execution_count": 10,
   "metadata": {},
   "outputs": [
    {
     "data": {
      "text/plain": [
       "(1142.149749431736, 0.228)"
      ]
     },
     "execution_count": 10,
     "metadata": {},
     "output_type": "execute_result"
    }
   ],
   "source": [
    "model.evaluate(x_test, y_test, verbose=0)"
   ]
  },
  {
   "cell_type": "code",
   "execution_count": null,
   "metadata": {},
   "outputs": [],
   "source": []
  }
 ],
 "metadata": {
  "kernelspec": {
   "display_name": "Python 3",
   "language": "python",
   "name": "python3"
  },
  "language_info": {
   "codemirror_mode": {
    "name": "ipython",
    "version": 3
   },
   "file_extension": ".py",
   "mimetype": "text/x-python",
   "name": "python",
   "nbconvert_exporter": "python",
   "pygments_lexer": "ipython3",
   "version": "3.11.5"
  }
 },
 "nbformat": 4,
 "nbformat_minor": 2
}
