{
 "cells": [
  {
   "cell_type": "code",
   "execution_count": 1,
   "metadata": {},
   "outputs": [],
   "source": [
    "import tensorflow as tf\n",
    "from tensorflow.keras.datasets import cifar10\n",
    "import os \n",
    "from time import time\n",
    "os.environ['TF_ENABLE_ONEDNN_OPTS'] = '0'\n",
    "\n",
    "(x_train, y_train), (x_test, y_test) = cifar10.load_data()\n",
    "x_train = x_train.astype(\"float64\") / 255.0\n",
    "x_test  = x_test.astype('float64') / 255.0\n",
    "x_train = tf.convert_to_tensor(x_train)\n",
    "x_test = tf.convert_to_tensor(x_test)\n",
    "x_train = (x_train.numpy())\n",
    "x_test = (x_test.numpy())\n",
    "\n",
    "y_train = y_train.reshape(-1)\n",
    "y_test  = y_test.reshape(-1)\n",
    "\n",
    "from DNN import *\n",
    "\n",
    "y_train = processing(y_train, 10)\n",
    "y_test  = processing(y_test , 10)\n"
   ]
  },
  {
   "cell_type": "code",
   "execution_count": 2,
   "metadata": {},
   "outputs": [],
   "source": [
    "x_train = x_train[:1000]\n",
    "x_test  = x_test[:500]\n",
    "y_train = y_train[:1000]\n",
    "y_test  = y_test[:500]"
   ]
  },
  {
   "cell_type": "code",
   "execution_count": 4,
   "metadata": {},
   "outputs": [
    {
     "name": "stdout",
     "output_type": "stream",
     "text": [
      "epoch: 1 Cost: 10.683827810332035; Accuracy: 0.109\n",
      "epoch: 2 Cost: 9.791064961330541; Accuracy: 0.123\n",
      "epoch: 3 Cost: 11.229940812115323; Accuracy: 0.112\n",
      "epoch: 4 Cost: 10.707229062058746; Accuracy: 0.106\n",
      "epoch: 5 Cost: 10.992439003768817; Accuracy: 0.098\n",
      "epoch: 6 Cost: 8.085475779788478; Accuracy: 0.148\n",
      "epoch: 7 Cost: 9.322741565975468; Accuracy: 0.108\n",
      "epoch: 8 Cost: 7.3968272119754515; Accuracy: 0.175\n",
      "epoch: 9 Cost: 8.050402743915633; Accuracy: 0.148\n",
      "epoch: 10 Cost: 6.841343163230966; Accuracy: 0.132\n",
      "epoch: 11 Cost: 5.557797238678809; Accuracy: 0.219\n",
      "epoch: 12 Cost: 4.637545674804243; Accuracy: 0.232\n",
      "epoch: 13 Cost: 8.781842802654266; Accuracy: 0.187\n",
      "epoch: 14 Cost: 5.700973825733463; Accuracy: 0.164\n",
      "epoch: 15 Cost: 7.216042257609917; Accuracy: 0.112\n",
      "epoch: 16 Cost: 5.465305521009055; Accuracy: 0.152\n",
      "epoch: 17 Cost: 6.026425892002934; Accuracy: 0.151\n",
      "epoch: 18 Cost: 5.133474915010508; Accuracy: 0.225\n",
      "epoch: 19 Cost: 3.1509416904274308; Accuracy: 0.199\n",
      "epoch: 20 Cost: 4.101388189940246; Accuracy: 0.155\n"
     ]
    },
    {
     "data": {
      "text/plain": [
       "(2210.6234086226164, 0.126)"
      ]
     },
     "execution_count": 4,
     "metadata": {},
     "output_type": "execute_result"
    }
   ],
   "source": [
    "input = Input(shape=(32, 32, 3))\n",
    "conv2d1 = Layer.Conv2D(filters=16, kernel_size=3, padding=1, activation='LeakyReLU', prev_layer=input)\n",
    "maxpooling1 = Layer.MaxPool2D(pool_size=2, prev_layer=conv2d1)\n",
    "conv2d2 = Layer.Conv2D(filters=32, kernel_size=3, padding=1, activation='LeakyReLU', prev_layer=maxpooling1)\n",
    "maxpooling2 = Layer.MaxPool2D(pool_size=2, prev_layer=conv2d2)\n",
    "flatten = Layer.Flatten(prev_layer=maxpooling2)\n",
    "layer1 = Layer.Layer(shape=128, activation='LeakyReLU', prev_layer=flatten)\n",
    "output = Layer.Layer(shape=10, activation='softmax', prev_layer=layer1)\n",
    "model = Model(input=input, output=output)\n",
    "model.compile(loss=Loss.CrossEntropy, optimizer=Optimizers.Adam(learning_rate=0.001))\n",
    "\n",
    "model.fit(x_train=x_train, y_train=y_train, batch_size=8, epochs=20)\n",
    "model.evaluate(x_test, y_test, verbose=0)"
   ]
  },
  {
   "cell_type": "code",
   "execution_count": 8,
   "metadata": {},
   "outputs": [
    {
     "name": "stdout",
     "output_type": "stream",
     "text": [
      "epoch: 1 Cost: 11.716869859198022; Accuracy: 0.126\n",
      "epoch: 2 Cost: 11.17586457780117; Accuracy: 0.146\n",
      "epoch: 3 Cost: 10.058128817714774; Accuracy: 0.188\n",
      "epoch: 4 Cost: 7.838114918840917; Accuracy: 0.203\n",
      "epoch: 5 Cost: 8.25462341872495; Accuracy: 0.17\n",
      "epoch: 6 Cost: 9.047796845620473; Accuracy: 0.185\n",
      "epoch: 7 Cost: 8.0540506608338; Accuracy: 0.144\n",
      "epoch: 8 Cost: 5.2123068424403245; Accuracy: 0.217\n",
      "epoch: 9 Cost: 4.962400017304559; Accuracy: 0.199\n",
      "epoch: 10 Cost: 6.15115766874789; Accuracy: 0.209\n",
      "epoch: 11 Cost: 4.24841378328533; Accuracy: 0.178\n",
      "epoch: 12 Cost: 5.109058100984074; Accuracy: 0.194\n",
      "epoch: 13 Cost: 3.3277261433067724; Accuracy: 0.17\n",
      "epoch: 14 Cost: 3.1714646278083514; Accuracy: 0.22\n",
      "epoch: 15 Cost: 3.5599681585657734; Accuracy: 0.215\n",
      "epoch: 16 Cost: 2.293248344600184; Accuracy: 0.248\n",
      "epoch: 17 Cost: 2.454376530253891; Accuracy: 0.24\n",
      "epoch: 18 Cost: 2.2165339759804685; Accuracy: 0.26\n",
      "epoch: 19 Cost: 2.293249822002378; Accuracy: 0.231\n"
     ]
    }
   ],
   "source": [
    "input = Input(shape=(32, 32, 3))\n",
    "conv2d1 = Layer.Conv2D(filters=16, kernel_size=3, padding=1, activation='LeakyReLU', prev_layer=input)\n",
    "maxpooling1 = Layer.MaxPool2D(pool_size=2, prev_layer=conv2d1)\n",
    "conv2d2 = Layer.Conv2D(filters=32, kernel_size=3, padding=1, activation='LeakyReLU', prev_layer=maxpooling1)\n",
    "maxpooling2 = Layer.MaxPool2D(pool_size=2, prev_layer=conv2d2)\n",
    "flatten = Layer.Flatten(prev_layer=maxpooling2)\n",
    "layer1 = Layer.Layer(shape=128, activation='LeakyReLU', prev_layer=flatten)\n",
    "output = Layer.Layer(shape=10, activation='softmax', prev_layer=layer1)\n",
    "model = Model(input=input, output=output)\n",
    "model.compile(loss=Loss.CrossEntropy, optimizer=Optimizers.SGD(learning_rate=0.001, momentum=0.5))\n",
    "model.fit(x_train=x_train, y_train=y_train, batch_size=8, epochs=20)\n",
    "model.evaluate(x_test, y_test, verbose=0)"
   ]
  },
  {
   "cell_type": "code",
   "execution_count": null,
   "metadata": {},
   "outputs": [],
   "source": []
  }
 ],
 "metadata": {
  "kernelspec": {
   "display_name": "Python 3",
   "language": "python",
   "name": "python3"
  },
  "language_info": {
   "codemirror_mode": {
    "name": "ipython",
    "version": 3
   },
   "file_extension": ".py",
   "mimetype": "text/x-python",
   "name": "python",
   "nbconvert_exporter": "python",
   "pygments_lexer": "ipython3",
   "version": "3.11.5"
  }
 },
 "nbformat": 4,
 "nbformat_minor": 2
}
